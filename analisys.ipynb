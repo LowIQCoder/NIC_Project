{
 "cells": [
  {
   "cell_type": "markdown",
   "id": "48f4b75b",
   "metadata": {},
   "source": [
    "# Data Analisys\n",
    "Here you can find all steps of data analisys."
   ]
  },
  {
   "cell_type": "code",
   "execution_count": 2,
   "id": "a33e928f",
   "metadata": {},
   "outputs": [],
   "source": [
    "import pandas as pd\n",
    "import numpy as np\n",
    "\n",
    "import matplotlib.pyplot as plt\n",
    "import seaborn as sns"
   ]
  },
  {
   "cell_type": "markdown",
   "id": "b2d4ce2b",
   "metadata": {},
   "source": [
    "Firts of all load aquired results"
   ]
  },
  {
   "cell_type": "code",
   "execution_count": null,
   "id": "f38b9acc",
   "metadata": {},
   "outputs": [],
   "source": [
    "dp_results = pd.read_csv('./results/results_dp.csv')\n",
    "aco_results = pd.read_csv('./results/results_aco.csv')\n",
    "ga_results = pd.read_csv('./results/results_ga.csv')"
   ]
  },
  {
   "cell_type": "markdown",
   "id": "213b1381",
   "metadata": {},
   "source": [
    "Now we can preview our data"
   ]
  },
  {
   "cell_type": "code",
   "execution_count": null,
   "id": "33f973fc",
   "metadata": {},
   "outputs": [],
   "source": [
    "dp_results.head(5)"
   ]
  },
  {
   "cell_type": "code",
   "execution_count": null,
   "id": "0d12a34c",
   "metadata": {},
   "outputs": [],
   "source": [
    "aco_results.head(5)"
   ]
  },
  {
   "cell_type": "code",
   "execution_count": null,
   "id": "79d785cd",
   "metadata": {},
   "outputs": [],
   "source": [
    "ga_results.head(5)"
   ]
  },
  {
   "cell_type": "markdown",
   "id": "877abf20",
   "metadata": {},
   "source": [
    "Firs of all analyse DP solution as perfect (Since it is guarantied that path will be the shortest)"
   ]
  },
  {
   "cell_type": "code",
   "execution_count": null,
   "id": "65459210",
   "metadata": {},
   "outputs": [],
   "source": []
  }
 ],
 "metadata": {
  "kernelspec": {
   "display_name": "Python 3",
   "language": "python",
   "name": "python3"
  },
  "language_info": {
   "codemirror_mode": {
    "name": "ipython",
    "version": 3
   },
   "file_extension": ".py",
   "mimetype": "text/x-python",
   "name": "python",
   "nbconvert_exporter": "python",
   "pygments_lexer": "ipython3",
   "version": "3.13.2"
  }
 },
 "nbformat": 4,
 "nbformat_minor": 5
}
