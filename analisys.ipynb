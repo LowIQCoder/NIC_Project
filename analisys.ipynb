{
 "cells": [
  {
   "cell_type": "markdown",
   "id": "b276b3f5",
   "metadata": {},
   "source": [
    "# Analizys of aquired results"
   ]
  },
  {
   "cell_type": "markdown",
   "id": "48f4b75b",
   "metadata": {},
   "source": [
    "## Data Analisys\n",
    "Here you can find all steps of data analisys."
   ]
  },
  {
   "cell_type": "code",
   "execution_count": 2,
   "id": "a33e928f",
   "metadata": {},
   "outputs": [],
   "source": [
    "import pandas as pd\n",
    "import numpy as np\n",
    "\n",
    "from sklearn.preprocessing import PolynomialFeatures\n",
    "from sklearn.linear_model import LinearRegression\n",
    "\n",
    "import matplotlib.pyplot as plt\n",
    "import seaborn as sns\n",
    "from utils.utils import plot_graph, get_data\n",
    "\n",
    "plt.style.use(\"seaborn-v0_8\")"
   ]
  },
  {
   "cell_type": "markdown",
   "id": "b2d4ce2b",
   "metadata": {},
   "source": [
    "Firts of all load aquired results"
   ]
  },
  {
   "cell_type": "code",
   "execution_count": 3,
   "id": "f38b9acc",
   "metadata": {},
   "outputs": [],
   "source": [
    "dp_results = pd.read_csv('./results/results_dp.csv')\n",
    "aco_results = pd.read_csv('./results/results_aco.csv')\n",
    "ga_results = pd.read_csv('./results/results_ga.csv')"
   ]
  },
  {
   "cell_type": "markdown",
   "id": "213b1381",
   "metadata": {},
   "source": [
    "Now we can preview our data"
   ]
  },
  {
   "cell_type": "code",
   "execution_count": 4,
   "id": "33f973fc",
   "metadata": {},
   "outputs": [
    {
     "data": {
      "application/vnd.microsoft.datawrangler.viewer.v0+json": {
       "columns": [
        {
         "name": "index",
         "rawType": "int64",
         "type": "integer"
        },
        {
         "name": "Graph Size",
         "rawType": "int64",
         "type": "integer"
        },
        {
         "name": "Execution Time (s)",
         "rawType": "float64",
         "type": "float"
        },
        {
         "name": "Iterations",
         "rawType": "int64",
         "type": "integer"
        },
        {
         "name": "Memory (bytes)",
         "rawType": "int64",
         "type": "integer"
        },
        {
         "name": "Shortest Path",
         "rawType": "object",
         "type": "string"
        },
        {
         "name": "Path Length (m)",
         "rawType": "float64",
         "type": "float"
        }
       ],
       "conversionMethod": "pd.DataFrame",
       "ref": "74f8f670-bdf3-45a2-854e-488b35004be5",
       "rows": [
        [
         "0",
         "3",
         "1.13",
         "5",
         "480",
         "0 -> 1 -> 2 -> 0",
         "1153.74"
        ],
        [
         "1",
         "4",
         "1.12",
         "16",
         "960",
         "0 -> 1 -> 2 -> 3 -> 0",
         "1218.56"
        ],
        [
         "2",
         "5",
         "1.119",
         "53",
         "3496",
         "0 -> 1 -> 2 -> 3 -> 4 -> 0",
         "1289.25"
        ],
        [
         "3",
         "6",
         "1.151",
         "166",
         "6728",
         "0 -> 4 -> 3 -> 2 -> 1 -> 5 -> 0",
         "1466.98"
        ],
        [
         "4",
         "7",
         "1.127",
         "487",
         "27400",
         "0 -> 1 -> 2 -> 3 -> 4 -> 6 -> 5 -> 0",
         "1499.68"
        ]
       ],
       "shape": {
        "columns": 6,
        "rows": 5
       }
      },
      "text/html": [
       "<div>\n",
       "<style scoped>\n",
       "    .dataframe tbody tr th:only-of-type {\n",
       "        vertical-align: middle;\n",
       "    }\n",
       "\n",
       "    .dataframe tbody tr th {\n",
       "        vertical-align: top;\n",
       "    }\n",
       "\n",
       "    .dataframe thead th {\n",
       "        text-align: right;\n",
       "    }\n",
       "</style>\n",
       "<table border=\"1\" class=\"dataframe\">\n",
       "  <thead>\n",
       "    <tr style=\"text-align: right;\">\n",
       "      <th></th>\n",
       "      <th>Graph Size</th>\n",
       "      <th>Execution Time (s)</th>\n",
       "      <th>Iterations</th>\n",
       "      <th>Memory (bytes)</th>\n",
       "      <th>Shortest Path</th>\n",
       "      <th>Path Length (m)</th>\n",
       "    </tr>\n",
       "  </thead>\n",
       "  <tbody>\n",
       "    <tr>\n",
       "      <th>0</th>\n",
       "      <td>3</td>\n",
       "      <td>1.130</td>\n",
       "      <td>5</td>\n",
       "      <td>480</td>\n",
       "      <td>0 -&gt; 1 -&gt; 2 -&gt; 0</td>\n",
       "      <td>1153.74</td>\n",
       "    </tr>\n",
       "    <tr>\n",
       "      <th>1</th>\n",
       "      <td>4</td>\n",
       "      <td>1.120</td>\n",
       "      <td>16</td>\n",
       "      <td>960</td>\n",
       "      <td>0 -&gt; 1 -&gt; 2 -&gt; 3 -&gt; 0</td>\n",
       "      <td>1218.56</td>\n",
       "    </tr>\n",
       "    <tr>\n",
       "      <th>2</th>\n",
       "      <td>5</td>\n",
       "      <td>1.119</td>\n",
       "      <td>53</td>\n",
       "      <td>3496</td>\n",
       "      <td>0 -&gt; 1 -&gt; 2 -&gt; 3 -&gt; 4 -&gt; 0</td>\n",
       "      <td>1289.25</td>\n",
       "    </tr>\n",
       "    <tr>\n",
       "      <th>3</th>\n",
       "      <td>6</td>\n",
       "      <td>1.151</td>\n",
       "      <td>166</td>\n",
       "      <td>6728</td>\n",
       "      <td>0 -&gt; 4 -&gt; 3 -&gt; 2 -&gt; 1 -&gt; 5 -&gt; 0</td>\n",
       "      <td>1466.98</td>\n",
       "    </tr>\n",
       "    <tr>\n",
       "      <th>4</th>\n",
       "      <td>7</td>\n",
       "      <td>1.127</td>\n",
       "      <td>487</td>\n",
       "      <td>27400</td>\n",
       "      <td>0 -&gt; 1 -&gt; 2 -&gt; 3 -&gt; 4 -&gt; 6 -&gt; 5 -&gt; 0</td>\n",
       "      <td>1499.68</td>\n",
       "    </tr>\n",
       "  </tbody>\n",
       "</table>\n",
       "</div>"
      ],
      "text/plain": [
       "   Graph Size  Execution Time (s)  Iterations  Memory (bytes)  \\\n",
       "0           3               1.130           5             480   \n",
       "1           4               1.120          16             960   \n",
       "2           5               1.119          53            3496   \n",
       "3           6               1.151         166            6728   \n",
       "4           7               1.127         487           27400   \n",
       "\n",
       "                          Shortest Path  Path Length (m)  \n",
       "0                      0 -> 1 -> 2 -> 0          1153.74  \n",
       "1                 0 -> 1 -> 2 -> 3 -> 0          1218.56  \n",
       "2            0 -> 1 -> 2 -> 3 -> 4 -> 0          1289.25  \n",
       "3       0 -> 4 -> 3 -> 2 -> 1 -> 5 -> 0          1466.98  \n",
       "4  0 -> 1 -> 2 -> 3 -> 4 -> 6 -> 5 -> 0          1499.68  "
      ]
     },
     "execution_count": 4,
     "metadata": {},
     "output_type": "execute_result"
    }
   ],
   "source": [
    "dp_results.head(5)"
   ]
  },
  {
   "cell_type": "code",
   "execution_count": 5,
   "id": "24cd60ce",
   "metadata": {},
   "outputs": [
    {
     "data": {
      "application/vnd.microsoft.datawrangler.viewer.v0+json": {
       "columns": [
        {
         "name": "index",
         "rawType": "int64",
         "type": "integer"
        },
        {
         "name": "Graph Size",
         "rawType": "int64",
         "type": "integer"
        },
        {
         "name": "Execution Time (s)",
         "rawType": "float64",
         "type": "float"
        },
        {
         "name": "Iterations",
         "rawType": "int64",
         "type": "integer"
        },
        {
         "name": "Memory (bytes)",
         "rawType": "float64",
         "type": "float"
        },
        {
         "name": "Shortest Path",
         "rawType": "object",
         "type": "string"
        },
        {
         "name": "Path Length (m)",
         "rawType": "float64",
         "type": "float"
        }
       ],
       "conversionMethod": "pd.DataFrame",
       "ref": "c02b6608-4d1d-483e-99f1-11a77c8b6f82",
       "rows": [
        [
         "0",
         "3",
         "3.42",
         "1000",
         "490.63671875",
         "0 -> 2 -> 1 -> 0",
         "1153.74"
        ],
        [
         "1",
         "4",
         "3.848",
         "1000",
         "633.6328125",
         "0 -> 3 -> 2 -> 1 -> 0",
         "1218.56"
        ],
        [
         "2",
         "5",
         "4.238",
         "1000",
         "774.2734375",
         "0 -> 4 -> 3 -> 2 -> 1 -> 0",
         "1289.25"
        ],
        [
         "3",
         "6",
         "4.678",
         "1000",
         "915.1640625",
         "0 -> 5 -> 1 -> 2 -> 3 -> 4 -> 0",
         "1466.98"
        ],
        [
         "4",
         "7",
         "5.266",
         "1000",
         "1052.62890625",
         "0 -> 5 -> 6 -> 4 -> 3 -> 2 -> 1 -> 0",
         "1499.68"
        ]
       ],
       "shape": {
        "columns": 6,
        "rows": 5
       }
      },
      "text/html": [
       "<div>\n",
       "<style scoped>\n",
       "    .dataframe tbody tr th:only-of-type {\n",
       "        vertical-align: middle;\n",
       "    }\n",
       "\n",
       "    .dataframe tbody tr th {\n",
       "        vertical-align: top;\n",
       "    }\n",
       "\n",
       "    .dataframe thead th {\n",
       "        text-align: right;\n",
       "    }\n",
       "</style>\n",
       "<table border=\"1\" class=\"dataframe\">\n",
       "  <thead>\n",
       "    <tr style=\"text-align: right;\">\n",
       "      <th></th>\n",
       "      <th>Graph Size</th>\n",
       "      <th>Execution Time (s)</th>\n",
       "      <th>Iterations</th>\n",
       "      <th>Memory (bytes)</th>\n",
       "      <th>Shortest Path</th>\n",
       "      <th>Path Length (m)</th>\n",
       "    </tr>\n",
       "  </thead>\n",
       "  <tbody>\n",
       "    <tr>\n",
       "      <th>0</th>\n",
       "      <td>3</td>\n",
       "      <td>3.420</td>\n",
       "      <td>1000</td>\n",
       "      <td>490.636719</td>\n",
       "      <td>0 -&gt; 2 -&gt; 1 -&gt; 0</td>\n",
       "      <td>1153.74</td>\n",
       "    </tr>\n",
       "    <tr>\n",
       "      <th>1</th>\n",
       "      <td>4</td>\n",
       "      <td>3.848</td>\n",
       "      <td>1000</td>\n",
       "      <td>633.632812</td>\n",
       "      <td>0 -&gt; 3 -&gt; 2 -&gt; 1 -&gt; 0</td>\n",
       "      <td>1218.56</td>\n",
       "    </tr>\n",
       "    <tr>\n",
       "      <th>2</th>\n",
       "      <td>5</td>\n",
       "      <td>4.238</td>\n",
       "      <td>1000</td>\n",
       "      <td>774.273438</td>\n",
       "      <td>0 -&gt; 4 -&gt; 3 -&gt; 2 -&gt; 1 -&gt; 0</td>\n",
       "      <td>1289.25</td>\n",
       "    </tr>\n",
       "    <tr>\n",
       "      <th>3</th>\n",
       "      <td>6</td>\n",
       "      <td>4.678</td>\n",
       "      <td>1000</td>\n",
       "      <td>915.164062</td>\n",
       "      <td>0 -&gt; 5 -&gt; 1 -&gt; 2 -&gt; 3 -&gt; 4 -&gt; 0</td>\n",
       "      <td>1466.98</td>\n",
       "    </tr>\n",
       "    <tr>\n",
       "      <th>4</th>\n",
       "      <td>7</td>\n",
       "      <td>5.266</td>\n",
       "      <td>1000</td>\n",
       "      <td>1052.628906</td>\n",
       "      <td>0 -&gt; 5 -&gt; 6 -&gt; 4 -&gt; 3 -&gt; 2 -&gt; 1 -&gt; 0</td>\n",
       "      <td>1499.68</td>\n",
       "    </tr>\n",
       "  </tbody>\n",
       "</table>\n",
       "</div>"
      ],
      "text/plain": [
       "   Graph Size  Execution Time (s)  Iterations  Memory (bytes)  \\\n",
       "0           3               3.420        1000      490.636719   \n",
       "1           4               3.848        1000      633.632812   \n",
       "2           5               4.238        1000      774.273438   \n",
       "3           6               4.678        1000      915.164062   \n",
       "4           7               5.266        1000     1052.628906   \n",
       "\n",
       "                          Shortest Path  Path Length (m)  \n",
       "0                      0 -> 2 -> 1 -> 0          1153.74  \n",
       "1                 0 -> 3 -> 2 -> 1 -> 0          1218.56  \n",
       "2            0 -> 4 -> 3 -> 2 -> 1 -> 0          1289.25  \n",
       "3       0 -> 5 -> 1 -> 2 -> 3 -> 4 -> 0          1466.98  \n",
       "4  0 -> 5 -> 6 -> 4 -> 3 -> 2 -> 1 -> 0          1499.68  "
      ]
     },
     "execution_count": 5,
     "metadata": {},
     "output_type": "execute_result"
    }
   ],
   "source": [
    "aco_results.head(5)"
   ]
  },
  {
   "cell_type": "code",
   "execution_count": 6,
   "id": "8e66b14e",
   "metadata": {},
   "outputs": [
    {
     "data": {
      "application/vnd.microsoft.datawrangler.viewer.v0+json": {
       "columns": [
        {
         "name": "index",
         "rawType": "int64",
         "type": "integer"
        },
        {
         "name": "Graph Size",
         "rawType": "int64",
         "type": "integer"
        },
        {
         "name": "Execution Time (s)",
         "rawType": "float64",
         "type": "float"
        },
        {
         "name": "Iterations",
         "rawType": "int64",
         "type": "integer"
        },
        {
         "name": "Memory (bytes)",
         "rawType": "int64",
         "type": "integer"
        },
        {
         "name": "Shortest Path",
         "rawType": "object",
         "type": "string"
        },
        {
         "name": "Path Length (m)",
         "rawType": "float64",
         "type": "float"
        }
       ],
       "conversionMethod": "pd.DataFrame",
       "ref": "4ba8ec82-5531-4b62-89e8-ac3c49d165a9",
       "rows": [
        [
         "0",
         "3",
         "7.861",
         "1000",
         "23566",
         "0 -> 1 -> 2 -> 0",
         "1153.74"
        ],
        [
         "1",
         "4",
         "8.284",
         "1000",
         "25326",
         "0 -> 1 -> 2 -> 3 -> 0",
         "1218.56"
        ],
        [
         "2",
         "5",
         "9.03",
         "1000",
         "26558",
         "0 -> 4 -> 3 -> 2 -> 1 -> 0",
         "1289.25"
        ],
        [
         "3",
         "6",
         "10.025",
         "1000",
         "28326",
         "0 -> 4 -> 3 -> 2 -> 1 -> 5 -> 0",
         "1466.98"
        ],
        [
         "4",
         "7",
         "9.477",
         "1000",
         "29774",
         "0 -> 1 -> 2 -> 3 -> 4 -> 6 -> 5 -> 0",
         "1499.68"
        ]
       ],
       "shape": {
        "columns": 6,
        "rows": 5
       }
      },
      "text/html": [
       "<div>\n",
       "<style scoped>\n",
       "    .dataframe tbody tr th:only-of-type {\n",
       "        vertical-align: middle;\n",
       "    }\n",
       "\n",
       "    .dataframe tbody tr th {\n",
       "        vertical-align: top;\n",
       "    }\n",
       "\n",
       "    .dataframe thead th {\n",
       "        text-align: right;\n",
       "    }\n",
       "</style>\n",
       "<table border=\"1\" class=\"dataframe\">\n",
       "  <thead>\n",
       "    <tr style=\"text-align: right;\">\n",
       "      <th></th>\n",
       "      <th>Graph Size</th>\n",
       "      <th>Execution Time (s)</th>\n",
       "      <th>Iterations</th>\n",
       "      <th>Memory (bytes)</th>\n",
       "      <th>Shortest Path</th>\n",
       "      <th>Path Length (m)</th>\n",
       "    </tr>\n",
       "  </thead>\n",
       "  <tbody>\n",
       "    <tr>\n",
       "      <th>0</th>\n",
       "      <td>3</td>\n",
       "      <td>7.861</td>\n",
       "      <td>1000</td>\n",
       "      <td>23566</td>\n",
       "      <td>0 -&gt; 1 -&gt; 2 -&gt; 0</td>\n",
       "      <td>1153.74</td>\n",
       "    </tr>\n",
       "    <tr>\n",
       "      <th>1</th>\n",
       "      <td>4</td>\n",
       "      <td>8.284</td>\n",
       "      <td>1000</td>\n",
       "      <td>25326</td>\n",
       "      <td>0 -&gt; 1 -&gt; 2 -&gt; 3 -&gt; 0</td>\n",
       "      <td>1218.56</td>\n",
       "    </tr>\n",
       "    <tr>\n",
       "      <th>2</th>\n",
       "      <td>5</td>\n",
       "      <td>9.030</td>\n",
       "      <td>1000</td>\n",
       "      <td>26558</td>\n",
       "      <td>0 -&gt; 4 -&gt; 3 -&gt; 2 -&gt; 1 -&gt; 0</td>\n",
       "      <td>1289.25</td>\n",
       "    </tr>\n",
       "    <tr>\n",
       "      <th>3</th>\n",
       "      <td>6</td>\n",
       "      <td>10.025</td>\n",
       "      <td>1000</td>\n",
       "      <td>28326</td>\n",
       "      <td>0 -&gt; 4 -&gt; 3 -&gt; 2 -&gt; 1 -&gt; 5 -&gt; 0</td>\n",
       "      <td>1466.98</td>\n",
       "    </tr>\n",
       "    <tr>\n",
       "      <th>4</th>\n",
       "      <td>7</td>\n",
       "      <td>9.477</td>\n",
       "      <td>1000</td>\n",
       "      <td>29774</td>\n",
       "      <td>0 -&gt; 1 -&gt; 2 -&gt; 3 -&gt; 4 -&gt; 6 -&gt; 5 -&gt; 0</td>\n",
       "      <td>1499.68</td>\n",
       "    </tr>\n",
       "  </tbody>\n",
       "</table>\n",
       "</div>"
      ],
      "text/plain": [
       "   Graph Size  Execution Time (s)  Iterations  Memory (bytes)  \\\n",
       "0           3               7.861        1000           23566   \n",
       "1           4               8.284        1000           25326   \n",
       "2           5               9.030        1000           26558   \n",
       "3           6              10.025        1000           28326   \n",
       "4           7               9.477        1000           29774   \n",
       "\n",
       "                          Shortest Path  Path Length (m)  \n",
       "0                      0 -> 1 -> 2 -> 0          1153.74  \n",
       "1                 0 -> 1 -> 2 -> 3 -> 0          1218.56  \n",
       "2            0 -> 4 -> 3 -> 2 -> 1 -> 0          1289.25  \n",
       "3       0 -> 4 -> 3 -> 2 -> 1 -> 5 -> 0          1466.98  \n",
       "4  0 -> 1 -> 2 -> 3 -> 4 -> 6 -> 5 -> 0          1499.68  "
      ]
     },
     "execution_count": 6,
     "metadata": {},
     "output_type": "execute_result"
    }
   ],
   "source": [
    "ga_results.head(5)"
   ]
  },
  {
   "cell_type": "code",
   "execution_count": 7,
   "id": "c709a990",
   "metadata": {},
   "outputs": [],
   "source": [
    "def get_error(df):\n",
    "    merged = df.merge(\n",
    "    dp_results[['Graph Size', 'Path Length (m)']],\n",
    "    on='Graph Size',\n",
    "    how='left',\n",
    "    suffixes=('', '_dp')\n",
    "    )\n",
    "\n",
    "    merged['error'] = np.where(\n",
    "        merged['Path Length (m)_dp'].notna(),\n",
    "        (merged['Path Length (m)'] - merged['Path Length (m)_dp']).round(2),\n",
    "        '-'\n",
    "    )\n",
    "\n",
    "    df['Error'] = merged['error']\n",
    "\n",
    "    print(df[['Graph Size', 'Iterations', 'Execution Time (s)', 'Memory (bytes)', 'Error']])"
   ]
  },
  {
   "cell_type": "code",
   "execution_count": 8,
   "id": "8cd6d40e",
   "metadata": {},
   "outputs": [
    {
     "name": "stdout",
     "output_type": "stream",
     "text": [
      "DP\n",
      "    Graph Size  Iterations  Execution Time (s)  Memory (bytes) Error\n",
      "0            3           5               1.130             480   0.0\n",
      "1            4          16               1.120             960   0.0\n",
      "2            5          53               1.119            3496   0.0\n",
      "3            6         166               1.151            6728   0.0\n",
      "4            7         487               1.127           27400   0.0\n",
      "5            8        1352               1.112           60304   0.0\n",
      "6            9        3593               1.139          159496   0.0\n",
      "7           10        9226               1.153          376480   0.0\n",
      "8           11       23051               1.231          839264   0.0\n",
      "9           12       56332               1.417         2670472   0.0\n",
      "10          13      135181               1.882         5632104   0.0\n",
      "11          14      319502               2.945        11422152   0.0\n",
      "12          15      745487               5.530        23301264   0.0\n",
      "13          16     1720336              11.293        48467024   0.0\n",
      "14          17     3932177              25.327       100633640   0.0\n",
      "15          18     8912914              55.486       208636848   0.0\n",
      "16          19    20054035             126.525       431983432   0.0\n",
      "17          20    44826644             284.085       893356776   0.0\n",
      "18          21    99614741             636.632      1845463656   0.0\n",
      "19          22   220200982            1407.401      3808397808   0.0\n",
      "ACO\n",
      "    Graph Size  Iterations  Execution Time (s)  Memory (bytes)   Error\n",
      "0            3        1000               3.420      490.636719     0.0\n",
      "1            4        1000               3.848      633.632812     0.0\n",
      "2            5        1000               4.238      774.273438     0.0\n",
      "3            6        1000               4.678      915.164062     0.0\n",
      "4            7        1000               5.266     1052.628906     0.0\n",
      "5            8        1000               5.910     1334.832031     0.0\n",
      "6            9        1000               6.211     1404.222656   18.88\n",
      "7           10        1000               6.587     1550.113281     0.0\n",
      "8           11        1000               7.319     1754.394531     0.0\n",
      "9           12        1000               8.148     2042.699219   27.08\n",
      "10          13        1000               8.578     2114.917969   14.79\n",
      "11          14        1000               9.186     2323.218750   14.79\n",
      "12          15        1000               9.647     2472.183594   84.92\n",
      "13          16        1000              10.367     2753.695312     0.0\n",
      "14          17        1000              11.038     2963.882812  133.91\n",
      "15          18        1000              11.693     3168.019531   86.51\n",
      "16          19        1000              12.669     3450.992188  223.93\n",
      "17          20        1000              13.763     3588.261719  155.77\n",
      "18          21        1000              13.943     3936.339844  142.57\n",
      "19          22        1000              14.700     4001.046875  100.28\n",
      "20          23        1000              16.372     4655.750000       -\n",
      "21          24        1000              16.744     4788.605469       -\n",
      "22          25        1000              17.001     4847.183594       -\n",
      "23          26        1000              18.339     5205.652344       -\n",
      "24          27        1000              18.878     5294.160156       -\n",
      "25          28        1000              19.222     5493.730469       -\n",
      "26          29        1000              19.837     5705.003906       -\n",
      "27          30        1000              21.148     6126.347656       -\n",
      "28          31        1000              21.829     6491.683594       -\n",
      "29          32        1000              22.924     6677.023438       -\n",
      "30          33        1000              23.835     6919.234375       -\n",
      "31          34        1000              25.247     7371.242188       -\n",
      "32          35        1000              25.810     7560.332031       -\n",
      "33          36        1000              26.414     7770.812500       -\n",
      "GA\n",
      "    Graph Size  Iterations  Execution Time (s)  Memory (bytes)   Error\n",
      "0            3        1000               7.861           23566     0.0\n",
      "1            4        1000               8.284           25326     0.0\n",
      "2            5        1000               9.030           26558     0.0\n",
      "3            6        1000              10.025           28326     0.0\n",
      "4            7        1000               9.477           29774     0.0\n",
      "5            8        1000              10.178           31206   14.27\n",
      "6            9        1000              10.044           33062     0.0\n",
      "7           10        1000              10.307           34486   50.28\n",
      "8           11        1000              10.716           35550     0.0\n",
      "9           12        1000              10.845           37406     0.0\n",
      "10          13        1000              11.064           38982   65.06\n",
      "11          14        1000              11.449           40358   20.52\n",
      "12          15        1000              12.000           42014    87.6\n",
      "13          16        1000              12.109           43766   38.41\n",
      "14          17        1000              12.463           45158     0.0\n",
      "15          18        1000              12.935           46502   85.19\n",
      "16          19        1000              13.291           47950   46.18\n",
      "17          20        1000              13.745           49422   50.28\n",
      "18          21        1000              14.020           51278  181.93\n",
      "19          22        1000              14.298           52614  236.93\n",
      "20          23        1000              14.868           50878       -\n",
      "21          24        1000              15.159           52358       -\n",
      "22          25        1000              15.374           54062       -\n",
      "23          26        1000              15.765           55286       -\n",
      "24          27        1000              16.186           57614       -\n",
      "25          28        1000              16.830           58542       -\n",
      "26          29        1000              16.955           60070       -\n",
      "27          30        1000              17.413           62190       -\n",
      "28          31        1000              17.817           62174       -\n",
      "29          32        1000              18.055           65230       -\n",
      "30          33        1000              18.201           65670       -\n",
      "31          34        1000              20.034           67022       -\n",
      "32          35        1000              19.355           68494       -\n",
      "33          36        1000              20.146           70406       -\n"
     ]
    }
   ],
   "source": [
    "print(\"DP\")\n",
    "get_error(dp_results)\n",
    "print(\"ACO\")\n",
    "get_error(aco_results)\n",
    "print(\"GA\")\n",
    "get_error(ga_results)"
   ]
  },
  {
   "cell_type": "markdown",
   "id": "c7efdfe3",
   "metadata": {},
   "source": [
    "## Dynamic Programming"
   ]
  },
  {
   "cell_type": "markdown",
   "id": "877abf20",
   "metadata": {},
   "source": [
    "First of all lets analyse results of DP. Since DP exeded time limit, we have results only up to graph with 22 nodes maximum. However, with use of polynomial regression we can predict metrics values up to graph with 36 nodes"
   ]
  },
  {
   "cell_type": "code",
   "execution_count": 9,
   "id": "65459210",
   "metadata": {},
   "outputs": [
    {
     "data": {
      "image/png": "[encoded data removed]",
      "text/plain": [
       "<Figure size 800x550 with 1 Axes>"
      ]
     },
     "metadata": {},
     "output_type": "display_data"
    },
    {
     "data": {
      "image/png": "[encoded data removed]",
      "text/plain": [
       "<Figure size 800x550 with 1 Axes>"
      ]
     },
     "metadata": {},
     "output_type": "display_data"
    },
    {
     "data": {
      "image/png": "[encoded data removed]",
      "text/plain": [
       "<Figure size 800x550 with 1 Axes>"
      ]
     },
     "metadata": {},
     "output_type": "display_data"
    },
    {
     "name": "stdout",
     "output_type": "stream",
     "text": [
      "Predicted metrics for 36 node graph\n",
      "Execution Time:\t13.96 h\n",
      "Iterations\t7839174022\n",
      "Used memory:\t120.95 GB\n",
      "Predicted Iteration\n",
      "[ 9.43213654e+06 -3.71890778e+06 -8.30022611e+06 -7.36297235e+06\n",
      " -3.46010866e+06  1.35359457e+06  5.52155872e+06  7.98539690e+06\n",
      "  8.18491401e+06  6.05810669e+06  2.04116333e+06 -2.93153590e+06\n",
      " -7.42741909e+06 -9.51572256e+06 -6.76749089e+06  3.74442312e+06\n",
      "  2.54453584e+07  6.22588457e+07  1.18606607e+08  1.99408558e+08\n",
      "  3.10082803e+08  4.56545640e+08  6.45211560e+08  8.82993242e+08\n",
      "  1.17730156e+09  1.53604558e+09  1.96763256e+09  2.48096794e+09\n",
      "  3.08545537e+09  3.79099668e+09  4.60799188e+09  5.54733921e+09\n",
      "  6.62043505e+09  7.83917402e+09]\n",
      "Predicted Time\n",
      "[ 6.17487698e+01 -2.27727890e+01 -5.22246793e+01 -4.62077192e+01\n",
      " -2.11248766e+01  9.81873053e+00  3.66158344e+01  5.24570170e+01\n",
      "  5.37307107e+01  4.00231975e+01  1.41186098e+01 -1.80010701e+01\n",
      " -4.71560101e+01 -6.09685276e+01 -4.38630904e+01  2.29336839e+01\n",
      "  1.61393028e+02  3.96684024e+02  7.57173605e+02  1.27442655e+03\n",
      "  1.98320550e+03  2.92147093e+03  4.13038117e+03  5.65429242e+03\n",
      "  7.54075869e+03  9.84053188e+03  1.26075617e+04  1.58989958e+04\n",
      "  1.97751795e+04  2.42996562e+04  2.95391669e+04  3.55636507e+04\n",
      "  4.24462444e+04  5.02632827e+04]\n",
      "Predicted Memory\n",
      "[ 1.48235989e+08 -5.94641092e+07 -1.30955261e+08 -1.15158923e+08\n",
      " -5.28937424e+07  2.31244484e+07  8.82826285e+07  1.26070589e+08\n",
      "  1.28080935e+08  9.40090812e+07  3.16532574e+07 -4.30854958e+07\n",
      " -1.06203325e+08 -1.25593563e+08 -6.10467338e+07  1.35749455e+08\n",
      "  5.21210106e+08  1.15985313e+09  2.12429927e+09  3.49527205e+09\n",
      "  5.36159782e+09  7.82020576e+09  1.09761278e+10  1.49424989e+10\n",
      "  1.98405564e+10  2.57996409e+10  3.29571956e+10  4.14587664e+10\n",
      "  5.14580024e+10  6.31166550e+10  7.66045789e+10  9.20997313e+10\n",
      "  1.09788172e+11  1.29864065e+11]\n"
     ]
    }
   ],
   "source": [
    "x = dp_results['Graph Size'].values.reshape(-1, 1)\n",
    "x_pred = np.arange(3, 37).reshape(-1, 1)\n",
    "\n",
    "def plot_and_predict(y_column, degree=2):\n",
    "    y = dp_results[y_column].values\n",
    "    poly = PolynomialFeatures(degree)\n",
    "    X_poly = poly.fit_transform(x)\n",
    "    model = LinearRegression().fit(X_poly, y)\n",
    "\n",
    "    X_pred_poly = poly.transform(x_pred)\n",
    "    y_pred = model.predict(X_pred_poly)\n",
    "\n",
    "    plt.plot(dp_results['Graph Size'], y, 'o', label=f'Actual {y_column}')\n",
    "    plt.plot(x_pred.flatten(), y_pred, '-', label=f'Predicted {y_column}')\n",
    "    plt.xlabel('Graph Size')\n",
    "    plt.ylabel(y_column)\n",
    "    plt.title(f'GP {y_column}')\n",
    "    plt.legend()\n",
    "    plt.grid(True)\n",
    "    plt.show()\n",
    "\n",
    "    return y_pred\n",
    "\n",
    "pred_time = plot_and_predict('Execution Time (s)', degree=4)\n",
    "pred_iters = plot_and_predict('Iterations', degree=4)\n",
    "pred_mem = plot_and_predict('Memory (bytes)', degree=4)\n",
    "\n",
    "print(\"Predicted metrics for 36 node graph\")\n",
    "print(f'Execution Time:\\t{pred_time[-1] / 3600:.2f} h')\n",
    "print(f'Iterations\\t{int(pred_iters[-1])}')\n",
    "print(f'Used memory:\\t{pred_mem[-1] / (1024**3):.2f} GB')\n",
    "\n",
    "print(\"Predicted Iteration\")\n",
    "print(pred_iters)\n",
    "print(\"Predicted Time\")\n",
    "print(pred_time)\n",
    "print(\"Predicted Memory\")\n",
    "print(pred_mem)"
   ]
  },
  {
   "cell_type": "markdown",
   "id": "b1966880",
   "metadata": {},
   "source": [
    "We can see that with increasing size of graph complexity groth exponentially, due to DP algorithm complexity"
   ]
  },
  {
   "cell_type": "markdown",
   "id": "a1a4f7a2",
   "metadata": {},
   "source": [
    "## ACO and GA"
   ]
  },
  {
   "cell_type": "code",
   "execution_count": 10,
   "id": "8f9d18a0",
   "metadata": {},
   "outputs": [
    {
     "data": {
      "image/png": "[encoded data removed]",
      "text/plain": [
       "<Figure size 1000x600 with 1 Axes>"
      ]
     },
     "metadata": {},
     "output_type": "display_data"
    }
   ],
   "source": [
    "plt.figure(figsize=(10, 6))\n",
    "\n",
    "plt.plot(ga_results['Graph Size'], ga_results['Execution Time (s)'], marker='o', label=\"Genetic Algorithm\", color='green')\n",
    "plt.plot(aco_results['Graph Size'], aco_results['Execution Time (s)'], marker='s', label=\"Ant Colony Optimisation\", color='tomato')\n",
    "plt.plot(dp_results['Graph Size'][:15], dp_results['Execution Time (s)'][:15], marker='^', label=\"Dynamic Programming\", color='royalblue')\n",
    "\n",
    "\n",
    "plt.title(\"GA vs ACO Execution Times\", fontsize=14)\n",
    "plt.xlabel(\"Graph Size (Nodes)\", fontsize=12)\n",
    "plt.ylabel(\"Execution Time (s)\", fontsize=12)\n",
    "\n",
    "plt.xlim(2, 37)\n",
    "plt.grid(True, linestyle='--')\n",
    "plt.legend()\n",
    "plt.tight_layout()\n",
    "plt.show()"
   ]
  },
  {
   "cell_type": "code",
   "execution_count": 11,
   "id": "ad7989a3",
   "metadata": {},
   "outputs": [
    {
     "data": {
      "image/png": "[encoded data removed]",
      "text/plain": [
       "<Figure size 1000x600 with 1 Axes>"
      ]
     },
     "metadata": {},
     "output_type": "display_data"
    }
   ],
   "source": [
    "plt.figure(figsize=(10, 6))\n",
    "\n",
    "plt.plot(ga_results['Graph Size'], ga_results['Memory (bytes)'], marker='o', label=\"Genetic Algorithm\", color='green')\n",
    "plt.plot(aco_results['Graph Size'], aco_results['Memory (bytes)'], marker='s', label=\"Ant Colony Optimisation\", color='tomato')\n",
    "plt.plot(dp_results['Graph Size'][:6], dp_results['Memory (bytes)'][:6], marker='s', label=\"Dynamic Programming\", color='royalblue')\n",
    "\n",
    "plt.title(\"GA vs ACO Used Memory\", fontsize=14)\n",
    "plt.xlabel(\"Graph Size (Nodes)\", fontsize=12)\n",
    "plt.ylabel(\"Memory (Bytes)\", fontsize=12)\n",
    "\n",
    "plt.xlim(2, 37)\n",
    "plt.grid(True, linestyle='--')\n",
    "plt.legend()\n",
    "plt.tight_layout()\n",
    "plt.show()"
   ]
  },
  {
   "cell_type": "code",
   "execution_count": 12,
   "id": "9de0a06b",
   "metadata": {},
   "outputs": [
    {
     "data": {
      "image/png": "[encoded data removed]",
      "text/plain": [
       "<Figure size 1000x600 with 1 Axes>"
      ]
     },
     "metadata": {},
     "output_type": "display_data"
    }
   ],
   "source": [
    "plt.figure(figsize=(10, 6))\n",
    "\n",
    "plt.stackplot(dp_results['Graph Size'], dp_results['Path Length (m)'], labels=['DP (Ideal Solution)'], colors=['royalblue'], alpha=0.8)\n",
    "\n",
    "plt.plot(ga_results['Graph Size'], ga_results['Path Length (m)'], marker='o', label=\"Genetic Algorithm\", color='green')\n",
    "plt.plot(aco_results['Graph Size'], aco_results['Path Length (m)'], marker='s', label=\"Ant Colony Optimisation\", color='tomato')\n",
    "\n",
    "plt.xlim(2, 37)\n",
    "plt.title(\"Shortest Path Lengths by Algorithm\")\n",
    "plt.xlabel(\"Graph Size (Nodes)\")\n",
    "plt.ylabel(\"Path Length (m)\")\n",
    "plt.legend(loc='upper left')\n",
    "plt.grid(True, linestyle='--')\n",
    "plt.tight_layout()\n",
    "plt.show()"
   ]
  },
  {
   "cell_type": "markdown",
   "id": "ba50d0cd",
   "metadata": {},
   "source": [
    "## Conclusion\n",
    "\n",
    "Ant Colony Optimization (ACO) — Effective for Large Datasets\n",
    "\n",
    "As the dataset size increases, the performance of DP diminishes due to exponential growth in computational requirements. In such cases, ACO becomes more suitable. Its heuristic approach allows for efficient exploration of larger solution spaces. Analizys have shown that ACO maintains reasonable execution times for large-sized TSP instances, making it a viable choice when DP becomes impractical\n",
    "\n",
    "Genetic Algorithm (GA) - Effective for Medium Datasets\n",
    "\n",
    "Genetic Algorithm (GA) is particularly effective for medium-sized datasets. It balances exploration and exploitation through its evolutionary approach, providing good solutions within reasonable execution times. While not as fast as ACO for larger datasets, GA demonstrates consistent performance and scalability for medium-sized TSP instances.\n",
    "\n"
   ]
  },
  {
   "cell_type": "code",
   "execution_count": 13,
   "id": "3e2fda04",
   "metadata": {},
   "outputs": [
    {
     "data": {
      "application/vnd.plotly.v1+json": {
       "config": {
        "plotlyServerURL": "https://plot.ly"
       },
       "data": [
        {
         "hovertemplate": "<b>%{hovertext}</b><br><br>atd=%{lat}<br>lng=%{lon}<br>id=%{marker.color}<extra></extra>",
         "hovertext": [
          "pyatorochka",
          "dorm2",
          "dorm3",
          "dorm4",
          "dorm5",
          "dorm6",
          "dorm7",
          "uni",
          "sport",
          "dorm1",
          "d140",
          "d142",
          "d138",
          "d124",
          "galka",
          "d116",
          "yarmarka",
          "d118",
          "d134",
          "d136",
          "d132",
          "big_boss",
          "d130",
          "d120",
          "d122",
          "d112",
          "d104",
          "d106",
          "d114",
          "bublik",
          "d108",
          "magnit",
          "d102",
          "d100",
          "artspace",
          "hotel",
          "hospital",
          "d98"
         ],
         "lat": {
          "bdata": "h9wMN+DfS0C1pQ7yeuBLQLWlDvJ64EtAHsAiv37gS0Dsa11qhOBLQMGNlC2S4EtAUtMuppngS0D+uWjIeOBLQGsqi8Iu4EtAI/jfSnbgS0A5fxMKEeBLQFuzlZf830tAcAuW6gLgS0AapyGq8N9LQGFvYkhO4EtA4ltYN97fS0AI5ujxe99LQPw2xHjN30tAPDJWm//fS0C9OseA7N9LQMvVj03y30tAh9wMN+DfS0Djpgaaz99LQCANp8zN30tAamyvBb3fS0Aea0YGud9LQLeb4Jum30tAJNHLKJbfS0BcHJWbqN9LQB123zE84EtAw6BMo8nfS0Aw1jcwud9LQMgG0sWm30tAW9HmOLffS0ANqg1ORN9LQAWHF0Sk4EtAo1aYvtfgS0CJC0CjdN9LQA==",
          "dtype": "f8"
         },
         "legendgroup": "",
         "lon": {
          "bdata": "5WGh1jRfSEAE5Euo4F5IQG743XTLXkhAH4XrUbheSEBv1XWopl5IQJnVO9wOX0hAQIS4cvZeSEDVdaimJF9IQEp/L4UHX0hAraI/NPNeSEBlcJS8Ol9IQBjqsMItX0hAqu6RzVVfSEAP7zmwHF9IQEBNLVvrX0hAs5lDUgtfSEAXnwJgPF9IQOJXrOEiX0hAuvdwyXFfSEAUJoxmZV9IQKYqbXGNX0hAXoWUn1RfSECNQ/0ubF9IQAEwnkFDX0hAMe4G0VpfSEBfYizTL19IQAINNnUeX0hA2H+dmzZfSEA01ZP5R19IQMdim1Q0YEhANKK0N/heSEA5mbhVEF9IQN1Dwvf+XkhA10y+2eZeSEBKJTyh119IQD7QCgxZX0hAAFMGDmhfSECKdhVSfl5IQA==",
          "dtype": "f8"
         },
         "marker": {
          "color": {
           "bdata": "AAECAwQFBgcICQoLDA0ODxAREhMUFRYXGBkaGxwdHh8gISIjJCU=",
           "dtype": "i1"
          },
          "coloraxis": "coloraxis"
         },
         "mode": "markers",
         "name": "",
         "showlegend": false,
         "subplot": "map",
         "type": "scattermap"
        },
        {
         "hoverinfo": "none",
         "lat": [
          55.74903,
          55.749532,
          55.749896,
          55.750089,
          55.75052,
          55.75361,
          55.753752,
          55.753752,
          55.754041,
          55.753868,
          55.754689,
          55.754461,
          55.755013,
          55.753686,
          55.751427,
          55.752389,
          55.751837,
          55.749582,
          55.749988,
          55.749405,
          55.74903,
          55.748468,
          55.748458,
          55.748969,
          55.748341,
          55.747779,
          55.747839,
          55.747834,
          55.747277,
          55.747272,
          55.74677,
          55.744272,
          55.74597,
          55.747333,
          55.747956,
          55.748523,
          55.74903
         ],
         "line": {
          "color": "#636EFA",
          "width": 3
         },
         "lon": [
          48.7438,
          48.743063,
          48.743584,
          48.744806,
          48.74398,
          48.741797,
          48.740584,
          48.741231,
          48.739461,
          48.74,
          48.741896,
          48.742641,
          48.744905,
          48.743306,
          48.742417,
          48.74937,
          48.751597,
          48.746504,
          48.74566,
          48.745282,
          48.74477,
          48.74424,
          48.743252,
          48.742533,
          48.74195,
          48.74142,
          48.742686,
          48.743647,
          48.742156,
          48.743117,
          48.743854,
          48.748768,
          48.74403,
          48.744384,
          48.744959,
          48.745489,
          48.7438
         ],
         "marker": {
          "color": "#636EFA",
          "size": 8
         },
         "mode": "lines+markers",
         "name": "Path 1",
         "type": "scattermap"
        }
       ],
       "layout": {
        "coloraxis": {
         "colorbar": {
          "title": {
           "text": "id"
          }
         },
         "colorscale": [
          [
           0,
           "#440154"
          ],
          [
           0.1111111111111111,
           "#482878"
          ],
          [
           0.2222222222222222,
           "#3e4989"
          ],
          [
           0.3333333333333333,
           "#31688e"
          ],
          [
           0.4444444444444444,
           "#26828e"
          ],
          [
           0.5555555555555556,
           "#1f9e89"
          ],
          [
           0.6666666666666666,
           "#35b779"
          ],
          [
           0.7777777777777778,
           "#6ece58"
          ],
          [
           0.8888888888888888,
           "#b5de2b"
          ],
          [
           1,
           "#fde725"
          ]
         ],
         "showscale": false
        },
        "height": 800,
        "legend": {
         "tracegroupgap": 0
        },
        "map": {
         "center": {
          "lat": 55.75013128947367,
          "lon": 48.74370347368421
         },
         "domain": {
          "x": [
           0,
           1
          ],
          "y": [
           0,
           1
          ]
         },
         "zoom": 14
        },
        "mapbox": {
         "center": {
          "lat": 55.75013128947367,
          "lon": 48.74370347368421
         },
         "style": "open-street-map",
         "zoom": 14
        },
        "margin": {
         "b": 0,
         "l": 0,
         "r": 0,
         "t": 0
        },
        "template": {
         "data": {
          "bar": [
           {
            "error_x": {
             "color": "#2a3f5f"
            },
            "error_y": {
             "color": "#2a3f5f"
            },
            "marker": {
             "line": {
              "color": "#E5ECF6",
              "width": 0.5
             },
             "pattern": {
              "fillmode": "overlay",
              "size": 10,
              "solidity": 0.2
             }
            },
            "type": "bar"
           }
          ],
          "barpolar": [
           {
            "marker": {
             "line": {
              "color": "#E5ECF6",
              "width": 0.5
             },
             "pattern": {
              "fillmode": "overlay",
              "size": 10,
              "solidity": 0.2
             }
            },
            "type": "barpolar"
           }
          ],
          "carpet": [
           {
            "aaxis": {
             "endlinecolor": "#2a3f5f",
             "gridcolor": "white",
             "linecolor": "white",
             "minorgridcolor": "white",
             "startlinecolor": "#2a3f5f"
            },
            "baxis": {
             "endlinecolor": "#2a3f5f",
             "gridcolor": "white",
             "linecolor": "white",
             "minorgridcolor": "white",
             "startlinecolor": "#2a3f5f"
            },
            "type": "carpet"
           }
          ],
          "choropleth": [
           {
            "colorbar": {
             "outlinewidth": 0,
             "ticks": ""
            },
            "type": "choropleth"
           }
          ],
          "contour": [
           {
            "colorbar": {
             "outlinewidth": 0,
             "ticks": ""
            },
            "colorscale": [
             [
              0,
              "#0d0887"
             ],
             [
              0.1111111111111111,
              "#46039f"
             ],
             [
              0.2222222222222222,
              "#7201a8"
             ],
             [
              0.3333333333333333,
              "#9c179e"
             ],
             [
              0.4444444444444444,
              "#bd3786"
             ],
             [
              0.5555555555555556,
              "#d8576b"
             ],
             [
              0.6666666666666666,
              "#ed7953"
             ],
             [
              0.7777777777777778,
              "#fb9f3a"
             ],
             [
              0.8888888888888888,
              "#fdca26"
             ],
             [
              1,
              "#f0f921"
             ]
            ],
            "type": "contour"
           }
          ],
          "contourcarpet": [
           {
            "colorbar": {
             "outlinewidth": 0,
             "ticks": ""
            },
            "type": "contourcarpet"
           }
          ],
          "heatmap": [
           {
            "colorbar": {
             "outlinewidth": 0,
             "ticks": ""
            },
            "colorscale": [
             [
              0,
              "#0d0887"
             ],
             [
              0.1111111111111111,
              "#46039f"
             ],
             [
              0.2222222222222222,
              "#7201a8"
             ],
             [
              0.3333333333333333,
              "#9c179e"
             ],
             [
              0.4444444444444444,
              "#bd3786"
             ],
             [
              0.5555555555555556,
              "#d8576b"
             ],
             [
              0.6666666666666666,
              "#ed7953"
             ],
             [
              0.7777777777777778,
              "#fb9f3a"
             ],
             [
              0.8888888888888888,
              "#fdca26"
             ],
             [
              1,
              "#f0f921"
             ]
            ],
            "type": "heatmap"
           }
          ],
          "histogram": [
           {
            "marker": {
             "pattern": {
              "fillmode": "overlay",
              "size": 10,
              "solidity": 0.2
             }
            },
            "type": "histogram"
           }
          ],
          "histogram2d": [
           {
            "colorbar": {
             "outlinewidth": 0,
             "ticks": ""
            },
            "colorscale": [
             [
              0,
              "#0d0887"
             ],
             [
              0.1111111111111111,
              "#46039f"
             ],
             [
              0.2222222222222222,
              "#7201a8"
             ],
             [
              0.3333333333333333,
              "#9c179e"
             ],
             [
              0.4444444444444444,
              "#bd3786"
             ],
             [
              0.5555555555555556,
              "#d8576b"
             ],
             [
              0.6666666666666666,
              "#ed7953"
             ],
             [
              0.7777777777777778,
              "#fb9f3a"
             ],
             [
              0.8888888888888888,
              "#fdca26"
             ],
             [
              1,
              "#f0f921"
             ]
            ],
            "type": "histogram2d"
           }
          ],
          "histogram2dcontour": [
           {
            "colorbar": {
             "outlinewidth": 0,
             "ticks": ""
            },
            "colorscale": [
             [
              0,
              "#0d0887"
             ],
             [
              0.1111111111111111,
              "#46039f"
             ],
             [
              0.2222222222222222,
              "#7201a8"
             ],
             [
              0.3333333333333333,
              "#9c179e"
             ],
             [
              0.4444444444444444,
              "#bd3786"
             ],
             [
              0.5555555555555556,
              "#d8576b"
             ],
             [
              0.6666666666666666,
              "#ed7953"
             ],
             [
              0.7777777777777778,
              "#fb9f3a"
             ],
             [
              0.8888888888888888,
              "#fdca26"
             ],
             [
              1,
              "#f0f921"
             ]
            ],
            "type": "histogram2dcontour"
           }
          ],
          "mesh3d": [
           {
            "colorbar": {
             "outlinewidth": 0,
             "ticks": ""
            },
            "type": "mesh3d"
           }
          ],
          "parcoords": [
           {
            "line": {
             "colorbar": {
              "outlinewidth": 0,
              "ticks": ""
             }
            },
            "type": "parcoords"
           }
          ],
          "pie": [
           {
            "automargin": true,
            "type": "pie"
           }
          ],
          "scatter": [
           {
            "fillpattern": {
             "fillmode": "overlay",
             "size": 10,
             "solidity": 0.2
            },
            "type": "scatter"
           }
          ],
          "scatter3d": [
           {
            "line": {
             "colorbar": {
              "outlinewidth": 0,
              "ticks": ""
             }
            },
            "marker": {
             "colorbar": {
              "outlinewidth": 0,
              "ticks": ""
             }
            },
            "type": "scatter3d"
           }
          ],
          "scattercarpet": [
           {
            "marker": {
             "colorbar": {
              "outlinewidth": 0,
              "ticks": ""
             }
            },
            "type": "scattercarpet"
           }
          ],
          "scattergeo": [
           {
            "marker": {
             "colorbar": {
              "outlinewidth": 0,
              "ticks": ""
             }
            },
            "type": "scattergeo"
           }
          ],
          "scattergl": [
           {
            "marker": {
             "colorbar": {
              "outlinewidth": 0,
              "ticks": ""
             }
            },
            "type": "scattergl"
           }
          ],
          "scattermap": [
           {
            "marker": {
             "colorbar": {
              "outlinewidth": 0,
              "ticks": ""
             }
            },
            "type": "scattermap"
           }
          ],
          "scattermapbox": [
           {
            "marker": {
             "colorbar": {
              "outlinewidth": 0,
              "ticks": ""
             }
            },
            "type": "scattermapbox"
           }
          ],
          "scatterpolar": [
           {
            "marker": {
             "colorbar": {
              "outlinewidth": 0,
              "ticks": ""
             }
            },
            "type": "scatterpolar"
           }
          ],
          "scatterpolargl": [
           {
            "marker": {
             "colorbar": {
              "outlinewidth": 0,
              "ticks": ""
             }
            },
            "type": "scatterpolargl"
           }
          ],
          "scatterternary": [
           {
            "marker": {
             "colorbar": {
              "outlinewidth": 0,
              "ticks": ""
             }
            },
            "type": "scatterternary"
           }
          ],
          "surface": [
           {
            "colorbar": {
             "outlinewidth": 0,
             "ticks": ""
            },
            "colorscale": [
             [
              0,
              "#0d0887"
             ],
             [
              0.1111111111111111,
              "#46039f"
             ],
             [
              0.2222222222222222,
              "#7201a8"
             ],
             [
              0.3333333333333333,
              "#9c179e"
             ],
             [
              0.4444444444444444,
              "#bd3786"
             ],
             [
              0.5555555555555556,
              "#d8576b"
             ],
             [
              0.6666666666666666,
              "#ed7953"
             ],
             [
              0.7777777777777778,
              "#fb9f3a"
             ],
             [
              0.8888888888888888,
              "#fdca26"
             ],
             [
              1,
              "#f0f921"
             ]
            ],
            "type": "surface"
           }
          ],
          "table": [
           {
            "cells": {
             "fill": {
              "color": "#EBF0F8"
             },
             "line": {
              "color": "white"
             }
            },
            "header": {
             "fill": {
              "color": "#C8D4E3"
             },
             "line": {
              "color": "white"
             }
            },
            "type": "table"
           }
          ]
         },
         "layout": {
          "annotationdefaults": {
           "arrowcolor": "#2a3f5f",
           "arrowhead": 0,
           "arrowwidth": 1
          },
          "autotypenumbers": "strict",
          "coloraxis": {
           "colorbar": {
            "outlinewidth": 0,
            "ticks": ""
           }
          },
          "colorscale": {
           "diverging": [
            [
             0,
             "#8e0152"
            ],
            [
             0.1,
             "#c51b7d"
            ],
            [
             0.2,
             "#de77ae"
            ],
            [
             0.3,
             "#f1b6da"
            ],
            [
             0.4,
             "#fde0ef"
            ],
            [
             0.5,
             "#f7f7f7"
            ],
            [
             0.6,
             "#e6f5d0"
            ],
            [
             0.7,
             "#b8e186"
            ],
            [
             0.8,
             "#7fbc41"
            ],
            [
             0.9,
             "#4d9221"
            ],
            [
             1,
             "#276419"
            ]
           ],
           "sequential": [
            [
             0,
             "#0d0887"
            ],
            [
             0.1111111111111111,
             "#46039f"
            ],
            [
             0.2222222222222222,
             "#7201a8"
            ],
            [
             0.3333333333333333,
             "#9c179e"
            ],
            [
             0.4444444444444444,
             "#bd3786"
            ],
            [
             0.5555555555555556,
             "#d8576b"
            ],
            [
             0.6666666666666666,
             "#ed7953"
            ],
            [
             0.7777777777777778,
             "#fb9f3a"
            ],
            [
             0.8888888888888888,
             "#fdca26"
            ],
            [
             1,
             "#f0f921"
            ]
           ],
           "sequentialminus": [
            [
             0,
             "#0d0887"
            ],
            [
             0.1111111111111111,
             "#46039f"
            ],
            [
             0.2222222222222222,
             "#7201a8"
            ],
            [
             0.3333333333333333,
             "#9c179e"
            ],
            [
             0.4444444444444444,
             "#bd3786"
            ],
            [
             0.5555555555555556,
             "#d8576b"
            ],
            [
             0.6666666666666666,
             "#ed7953"
            ],
            [
             0.7777777777777778,
             "#fb9f3a"
            ],
            [
             0.8888888888888888,
             "#fdca26"
            ],
            [
             1,
             "#f0f921"
            ]
           ]
          },
          "colorway": [
           "#636efa",
           "#EF553B",
           "#00cc96",
           "#ab63fa",
           "#FFA15A",
           "#19d3f3",
           "#FF6692",
           "#B6E880",
           "#FF97FF",
           "#FECB52"
          ],
          "font": {
           "color": "#2a3f5f"
          },
          "geo": {
           "bgcolor": "white",
           "lakecolor": "white",
           "landcolor": "#E5ECF6",
           "showlakes": true,
           "showland": true,
           "subunitcolor": "white"
          },
          "hoverlabel": {
           "align": "left"
          },
          "hovermode": "closest",
          "mapbox": {
           "style": "light"
          },
          "paper_bgcolor": "white",
          "plot_bgcolor": "#E5ECF6",
          "polar": {
           "angularaxis": {
            "gridcolor": "white",
            "linecolor": "white",
            "ticks": ""
           },
           "bgcolor": "#E5ECF6",
           "radialaxis": {
            "gridcolor": "white",
            "linecolor": "white",
            "ticks": ""
           }
          },
          "scene": {
           "xaxis": {
            "backgroundcolor": "#E5ECF6",
            "gridcolor": "white",
            "gridwidth": 2,
            "linecolor": "white",
            "showbackground": true,
            "ticks": "",
            "zerolinecolor": "white"
           },
           "yaxis": {
            "backgroundcolor": "#E5ECF6",
            "gridcolor": "white",
            "gridwidth": 2,
            "linecolor": "white",
            "showbackground": true,
            "ticks": "",
            "zerolinecolor": "white"
           },
           "zaxis": {
            "backgroundcolor": "#E5ECF6",
            "gridcolor": "white",
            "gridwidth": 2,
            "linecolor": "white",
            "showbackground": true,
            "ticks": "",
            "zerolinecolor": "white"
           }
          },
          "shapedefaults": {
           "line": {
            "color": "#2a3f5f"
           }
          },
          "ternary": {
           "aaxis": {
            "gridcolor": "white",
            "linecolor": "white",
            "ticks": ""
           },
           "baxis": {
            "gridcolor": "white",
            "linecolor": "white",
            "ticks": ""
           },
           "bgcolor": "#E5ECF6",
           "caxis": {
            "gridcolor": "white",
            "linecolor": "white",
            "ticks": ""
           }
          },
          "title": {
           "x": 0.05
          },
          "xaxis": {
           "automargin": true,
           "gridcolor": "white",
           "linecolor": "white",
           "ticks": "",
           "title": {
            "standoff": 15
           },
           "zerolinecolor": "white",
           "zerolinewidth": 2
          },
          "yaxis": {
           "automargin": true,
           "gridcolor": "white",
           "linecolor": "white",
           "ticks": "",
           "title": {
            "standoff": 15
           },
           "zerolinecolor": "white",
           "zerolinewidth": 2
          }
         }
        },
        "width": 800
       }
      }
     },
     "metadata": {},
     "output_type": "display_data"
    },
    {
     "data": {
      "application/vnd.plotly.v1+json": {
       "config": {
        "plotlyServerURL": "https://plot.ly"
       },
       "data": [
        {
         "hovertemplate": "<b>%{hovertext}</b><br><br>atd=%{lat}<br>lng=%{lon}<br>id=%{marker.color}<extra></extra>",
         "hovertext": [
          "pyatorochka",
          "dorm2",
          "dorm3",
          "dorm4",
          "dorm5",
          "dorm6",
          "dorm7",
          "uni",
          "sport",
          "dorm1",
          "d140",
          "d142",
          "d138",
          "d124",
          "galka",
          "d116",
          "yarmarka",
          "d118",
          "d134",
          "d136",
          "d132",
          "big_boss",
          "d130",
          "d120",
          "d122",
          "d112",
          "d104",
          "d106",
          "d114",
          "bublik",
          "d108",
          "magnit",
          "d102",
          "d100",
          "artspace",
          "hotel",
          "hospital",
          "d98"
         ],
         "lat": {
          "bdata": "h9wMN+DfS0C1pQ7yeuBLQLWlDvJ64EtAHsAiv37gS0Dsa11qhOBLQMGNlC2S4EtAUtMuppngS0D+uWjIeOBLQGsqi8Iu4EtAI/jfSnbgS0A5fxMKEeBLQFuzlZf830tAcAuW6gLgS0AapyGq8N9LQGFvYkhO4EtA4ltYN97fS0AI5ujxe99LQPw2xHjN30tAPDJWm//fS0C9OseA7N9LQMvVj03y30tAh9wMN+DfS0Djpgaaz99LQCANp8zN30tAamyvBb3fS0Aea0YGud9LQLeb4Jum30tAJNHLKJbfS0BcHJWbqN9LQB123zE84EtAw6BMo8nfS0Aw1jcwud9LQMgG0sWm30tAW9HmOLffS0ANqg1ORN9LQAWHF0Sk4EtAo1aYvtfgS0CJC0CjdN9LQA==",
          "dtype": "f8"
         },
         "legendgroup": "",
         "lon": {
          "bdata": "5WGh1jRfSEAE5Euo4F5IQG743XTLXkhAH4XrUbheSEBv1XWopl5IQJnVO9wOX0hAQIS4cvZeSEDVdaimJF9IQEp/L4UHX0hAraI/NPNeSEBlcJS8Ol9IQBjqsMItX0hAqu6RzVVfSEAP7zmwHF9IQEBNLVvrX0hAs5lDUgtfSEAXnwJgPF9IQOJXrOEiX0hAuvdwyXFfSEAUJoxmZV9IQKYqbXGNX0hAXoWUn1RfSECNQ/0ubF9IQAEwnkFDX0hAMe4G0VpfSEBfYizTL19IQAINNnUeX0hA2H+dmzZfSEA01ZP5R19IQMdim1Q0YEhANKK0N/heSEA5mbhVEF9IQN1Dwvf+XkhA10y+2eZeSEBKJTyh119IQD7QCgxZX0hAAFMGDmhfSECKdhVSfl5IQA==",
          "dtype": "f8"
         },
         "marker": {
          "color": {
           "bdata": "AAECAwQFBgcICQoLDA0ODxAREhMUFRYXGBkaGxwdHh8gISIjJCU=",
           "dtype": "i1"
          },
          "coloraxis": "coloraxis"
         },
         "mode": "markers",
         "name": "",
         "showlegend": false,
         "subplot": "map",
         "type": "scattermap"
        },
        {
         "hoverinfo": "none",
         "lat": [
          55.74903,
          55.74903,
          55.749405,
          55.748523,
          55.744272,
          55.74597,
          55.74677,
          55.747272,
          55.747277,
          55.747779,
          55.748341,
          55.748969,
          55.748458,
          55.747839,
          55.747834,
          55.747333,
          55.747956,
          55.748468,
          55.751427,
          55.753686,
          55.75361,
          55.753752,
          55.753752,
          55.753868,
          55.754041,
          55.754689,
          55.754461,
          55.755013,
          55.752389,
          55.751837,
          55.749582,
          55.749988,
          55.750089,
          55.75052,
          55.749896,
          55.749532,
          55.74903
         ],
         "line": {
          "color": "#636EFA",
          "width": 3
         },
         "lon": [
          48.7438,
          48.74477,
          48.745282,
          48.745489,
          48.748768,
          48.74403,
          48.743854,
          48.743117,
          48.742156,
          48.74142,
          48.74195,
          48.742533,
          48.743252,
          48.742686,
          48.743647,
          48.744384,
          48.744959,
          48.74424,
          48.742417,
          48.743306,
          48.741797,
          48.741231,
          48.740584,
          48.74,
          48.739461,
          48.741896,
          48.742641,
          48.744905,
          48.74937,
          48.751597,
          48.746504,
          48.74566,
          48.744806,
          48.74398,
          48.743584,
          48.743063,
          48.7438
         ],
         "marker": {
          "color": "#636EFA",
          "size": 8
         },
         "mode": "lines+markers",
         "name": "Path 1",
         "type": "scattermap"
        }
       ],
       "layout": {
        "coloraxis": {
         "colorbar": {
          "title": {
           "text": "id"
          }
         },
         "colorscale": [
          [
           0,
           "#440154"
          ],
          [
           0.1111111111111111,
           "#482878"
          ],
          [
           0.2222222222222222,
           "#3e4989"
          ],
          [
           0.3333333333333333,
           "#31688e"
          ],
          [
           0.4444444444444444,
           "#26828e"
          ],
          [
           0.5555555555555556,
           "#1f9e89"
          ],
          [
           0.6666666666666666,
           "#35b779"
          ],
          [
           0.7777777777777778,
           "#6ece58"
          ],
          [
           0.8888888888888888,
           "#b5de2b"
          ],
          [
           1,
           "#fde725"
          ]
         ],
         "showscale": false
        },
        "height": 800,
        "legend": {
         "tracegroupgap": 0
        },
        "map": {
         "center": {
          "lat": 55.75013128947367,
          "lon": 48.74370347368421
         },
         "domain": {
          "x": [
           0,
           1
          ],
          "y": [
           0,
           1
          ]
         },
         "zoom": 14
        },
        "mapbox": {
         "center": {
          "lat": 55.75013128947367,
          "lon": 48.74370347368421
         },
         "style": "open-street-map",
         "zoom": 14
        },
        "margin": {
         "b": 0,
         "l": 0,
         "r": 0,
         "t": 0
        },
        "template": {
         "data": {
          "bar": [
           {
            "error_x": {
             "color": "#2a3f5f"
            },
            "error_y": {
             "color": "#2a3f5f"
            },
            "marker": {
             "line": {
              "color": "#E5ECF6",
              "width": 0.5
             },
             "pattern": {
              "fillmode": "overlay",
              "size": 10,
              "solidity": 0.2
             }
            },
            "type": "bar"
           }
          ],
          "barpolar": [
           {
            "marker": {
             "line": {
              "color": "#E5ECF6",
              "width": 0.5
             },
             "pattern": {
              "fillmode": "overlay",
              "size": 10,
              "solidity": 0.2
             }
            },
            "type": "barpolar"
           }
          ],
          "carpet": [
           {
            "aaxis": {
             "endlinecolor": "#2a3f5f",
             "gridcolor": "white",
             "linecolor": "white",
             "minorgridcolor": "white",
             "startlinecolor": "#2a3f5f"
            },
            "baxis": {
             "endlinecolor": "#2a3f5f",
             "gridcolor": "white",
             "linecolor": "white",
             "minorgridcolor": "white",
             "startlinecolor": "#2a3f5f"
            },
            "type": "carpet"
           }
          ],
          "choropleth": [
           {
            "colorbar": {
             "outlinewidth": 0,
             "ticks": ""
            },
            "type": "choropleth"
           }
          ],
          "contour": [
           {
            "colorbar": {
             "outlinewidth": 0,
             "ticks": ""
            },
            "colorscale": [
             [
              0,
              "#0d0887"
             ],
             [
              0.1111111111111111,
              "#46039f"
             ],
             [
              0.2222222222222222,
              "#7201a8"
             ],
             [
              0.3333333333333333,
              "#9c179e"
             ],
             [
              0.4444444444444444,
              "#bd3786"
             ],
             [
              0.5555555555555556,
              "#d8576b"
             ],
             [
              0.6666666666666666,
              "#ed7953"
             ],
             [
              0.7777777777777778,
              "#fb9f3a"
             ],
             [
              0.8888888888888888,
              "#fdca26"
             ],
             [
              1,
              "#f0f921"
             ]
            ],
            "type": "contour"
           }
          ],
          "contourcarpet": [
           {
            "colorbar": {
             "outlinewidth": 0,
             "ticks": ""
            },
            "type": "contourcarpet"
           }
          ],
          "heatmap": [
           {
            "colorbar": {
             "outlinewidth": 0,
             "ticks": ""
            },
            "colorscale": [
             [
              0,
              "#0d0887"
             ],
             [
              0.1111111111111111,
              "#46039f"
             ],
             [
              0.2222222222222222,
              "#7201a8"
             ],
             [
              0.3333333333333333,
              "#9c179e"
             ],
             [
              0.4444444444444444,
              "#bd3786"
             ],
             [
              0.5555555555555556,
              "#d8576b"
             ],
             [
              0.6666666666666666,
              "#ed7953"
             ],
             [
              0.7777777777777778,
              "#fb9f3a"
             ],
             [
              0.8888888888888888,
              "#fdca26"
             ],
             [
              1,
              "#f0f921"
             ]
            ],
            "type": "heatmap"
           }
          ],
          "histogram": [
           {
            "marker": {
             "pattern": {
              "fillmode": "overlay",
              "size": 10,
              "solidity": 0.2
             }
            },
            "type": "histogram"
           }
          ],
          "histogram2d": [
           {
            "colorbar": {
             "outlinewidth": 0,
             "ticks": ""
            },
            "colorscale": [
             [
              0,
              "#0d0887"
             ],
             [
              0.1111111111111111,
              "#46039f"
             ],
             [
              0.2222222222222222,
              "#7201a8"
             ],
             [
              0.3333333333333333,
              "#9c179e"
             ],
             [
              0.4444444444444444,
              "#bd3786"
             ],
             [
              0.5555555555555556,
              "#d8576b"
             ],
             [
              0.6666666666666666,
              "#ed7953"
             ],
             [
              0.7777777777777778,
              "#fb9f3a"
             ],
             [
              0.8888888888888888,
              "#fdca26"
             ],
             [
              1,
              "#f0f921"
             ]
            ],
            "type": "histogram2d"
           }
          ],
          "histogram2dcontour": [
           {
            "colorbar": {
             "outlinewidth": 0,
             "ticks": ""
            },
            "colorscale": [
             [
              0,
              "#0d0887"
             ],
             [
              0.1111111111111111,
              "#46039f"
             ],
             [
              0.2222222222222222,
              "#7201a8"
             ],
             [
              0.3333333333333333,
              "#9c179e"
             ],
             [
              0.4444444444444444,
              "#bd3786"
             ],
             [
              0.5555555555555556,
              "#d8576b"
             ],
             [
              0.6666666666666666,
              "#ed7953"
             ],
             [
              0.7777777777777778,
              "#fb9f3a"
             ],
             [
              0.8888888888888888,
              "#fdca26"
             ],
             [
              1,
              "#f0f921"
             ]
            ],
            "type": "histogram2dcontour"
           }
          ],
          "mesh3d": [
           {
            "colorbar": {
             "outlinewidth": 0,
             "ticks": ""
            },
            "type": "mesh3d"
           }
          ],
          "parcoords": [
           {
            "line": {
             "colorbar": {
              "outlinewidth": 0,
              "ticks": ""
             }
            },
            "type": "parcoords"
           }
          ],
          "pie": [
           {
            "automargin": true,
            "type": "pie"
           }
          ],
          "scatter": [
           {
            "fillpattern": {
             "fillmode": "overlay",
             "size": 10,
             "solidity": 0.2
            },
            "type": "scatter"
           }
          ],
          "scatter3d": [
           {
            "line": {
             "colorbar": {
              "outlinewidth": 0,
              "ticks": ""
             }
            },
            "marker": {
             "colorbar": {
              "outlinewidth": 0,
              "ticks": ""
             }
            },
            "type": "scatter3d"
           }
          ],
          "scattercarpet": [
           {
            "marker": {
             "colorbar": {
              "outlinewidth": 0,
              "ticks": ""
             }
            },
            "type": "scattercarpet"
           }
          ],
          "scattergeo": [
           {
            "marker": {
             "colorbar": {
              "outlinewidth": 0,
              "ticks": ""
             }
            },
            "type": "scattergeo"
           }
          ],
          "scattergl": [
           {
            "marker": {
             "colorbar": {
              "outlinewidth": 0,
              "ticks": ""
             }
            },
            "type": "scattergl"
           }
          ],
          "scattermap": [
           {
            "marker": {
             "colorbar": {
              "outlinewidth": 0,
              "ticks": ""
             }
            },
            "type": "scattermap"
           }
          ],
          "scattermapbox": [
           {
            "marker": {
             "colorbar": {
              "outlinewidth": 0,
              "ticks": ""
             }
            },
            "type": "scattermapbox"
           }
          ],
          "scatterpolar": [
           {
            "marker": {
             "colorbar": {
              "outlinewidth": 0,
              "ticks": ""
             }
            },
            "type": "scatterpolar"
           }
          ],
          "scatterpolargl": [
           {
            "marker": {
             "colorbar": {
              "outlinewidth": 0,
              "ticks": ""
             }
            },
            "type": "scatterpolargl"
           }
          ],
          "scatterternary": [
           {
            "marker": {
             "colorbar": {
              "outlinewidth": 0,
              "ticks": ""
             }
            },
            "type": "scatterternary"
           }
          ],
          "surface": [
           {
            "colorbar": {
             "outlinewidth": 0,
             "ticks": ""
            },
            "colorscale": [
             [
              0,
              "#0d0887"
             ],
             [
              0.1111111111111111,
              "#46039f"
             ],
             [
              0.2222222222222222,
              "#7201a8"
             ],
             [
              0.3333333333333333,
              "#9c179e"
             ],
             [
              0.4444444444444444,
              "#bd3786"
             ],
             [
              0.5555555555555556,
              "#d8576b"
             ],
             [
              0.6666666666666666,
              "#ed7953"
             ],
             [
              0.7777777777777778,
              "#fb9f3a"
             ],
             [
              0.8888888888888888,
              "#fdca26"
             ],
             [
              1,
              "#f0f921"
             ]
            ],
            "type": "surface"
           }
          ],
          "table": [
           {
            "cells": {
             "fill": {
              "color": "#EBF0F8"
             },
             "line": {
              "color": "white"
             }
            },
            "header": {
             "fill": {
              "color": "#C8D4E3"
             },
             "line": {
              "color": "white"
             }
            },
            "type": "table"
           }
          ]
         },
         "layout": {
          "annotationdefaults": {
           "arrowcolor": "#2a3f5f",
           "arrowhead": 0,
           "arrowwidth": 1
          },
          "autotypenumbers": "strict",
          "coloraxis": {
           "colorbar": {
            "outlinewidth": 0,
            "ticks": ""
           }
          },
          "colorscale": {
           "diverging": [
            [
             0,
             "#8e0152"
            ],
            [
             0.1,
             "#c51b7d"
            ],
            [
             0.2,
             "#de77ae"
            ],
            [
             0.3,
             "#f1b6da"
            ],
            [
             0.4,
             "#fde0ef"
            ],
            [
             0.5,
             "#f7f7f7"
            ],
            [
             0.6,
             "#e6f5d0"
            ],
            [
             0.7,
             "#b8e186"
            ],
            [
             0.8,
             "#7fbc41"
            ],
            [
             0.9,
             "#4d9221"
            ],
            [
             1,
             "#276419"
            ]
           ],
           "sequential": [
            [
             0,
             "#0d0887"
            ],
            [
             0.1111111111111111,
             "#46039f"
            ],
            [
             0.2222222222222222,
             "#7201a8"
            ],
            [
             0.3333333333333333,
             "#9c179e"
            ],
            [
             0.4444444444444444,
             "#bd3786"
            ],
            [
             0.5555555555555556,
             "#d8576b"
            ],
            [
             0.6666666666666666,
             "#ed7953"
            ],
            [
             0.7777777777777778,
             "#fb9f3a"
            ],
            [
             0.8888888888888888,
             "#fdca26"
            ],
            [
             1,
             "#f0f921"
            ]
           ],
           "sequentialminus": [
            [
             0,
             "#0d0887"
            ],
            [
             0.1111111111111111,
             "#46039f"
            ],
            [
             0.2222222222222222,
             "#7201a8"
            ],
            [
             0.3333333333333333,
             "#9c179e"
            ],
            [
             0.4444444444444444,
             "#bd3786"
            ],
            [
             0.5555555555555556,
             "#d8576b"
            ],
            [
             0.6666666666666666,
             "#ed7953"
            ],
            [
             0.7777777777777778,
             "#fb9f3a"
            ],
            [
             0.8888888888888888,
             "#fdca26"
            ],
            [
             1,
             "#f0f921"
            ]
           ]
          },
          "colorway": [
           "#636efa",
           "#EF553B",
           "#00cc96",
           "#ab63fa",
           "#FFA15A",
           "#19d3f3",
           "#FF6692",
           "#B6E880",
           "#FF97FF",
           "#FECB52"
          ],
          "font": {
           "color": "#2a3f5f"
          },
          "geo": {
           "bgcolor": "white",
           "lakecolor": "white",
           "landcolor": "#E5ECF6",
           "showlakes": true,
           "showland": true,
           "subunitcolor": "white"
          },
          "hoverlabel": {
           "align": "left"
          },
          "hovermode": "closest",
          "mapbox": {
           "style": "light"
          },
          "paper_bgcolor": "white",
          "plot_bgcolor": "#E5ECF6",
          "polar": {
           "angularaxis": {
            "gridcolor": "white",
            "linecolor": "white",
            "ticks": ""
           },
           "bgcolor": "#E5ECF6",
           "radialaxis": {
            "gridcolor": "white",
            "linecolor": "white",
            "ticks": ""
           }
          },
          "scene": {
           "xaxis": {
            "backgroundcolor": "#E5ECF6",
            "gridcolor": "white",
            "gridwidth": 2,
            "linecolor": "white",
            "showbackground": true,
            "ticks": "",
            "zerolinecolor": "white"
           },
           "yaxis": {
            "backgroundcolor": "#E5ECF6",
            "gridcolor": "white",
            "gridwidth": 2,
            "linecolor": "white",
            "showbackground": true,
            "ticks": "",
            "zerolinecolor": "white"
           },
           "zaxis": {
            "backgroundcolor": "#E5ECF6",
            "gridcolor": "white",
            "gridwidth": 2,
            "linecolor": "white",
            "showbackground": true,
            "ticks": "",
            "zerolinecolor": "white"
           }
          },
          "shapedefaults": {
           "line": {
            "color": "#2a3f5f"
           }
          },
          "ternary": {
           "aaxis": {
            "gridcolor": "white",
            "linecolor": "white",
            "ticks": ""
           },
           "baxis": {
            "gridcolor": "white",
            "linecolor": "white",
            "ticks": ""
           },
           "bgcolor": "#E5ECF6",
           "caxis": {
            "gridcolor": "white",
            "linecolor": "white",
            "ticks": ""
           }
          },
          "title": {
           "x": 0.05
          },
          "xaxis": {
           "automargin": true,
           "gridcolor": "white",
           "linecolor": "white",
           "ticks": "",
           "title": {
            "standoff": 15
           },
           "zerolinecolor": "white",
           "zerolinewidth": 2
          },
          "yaxis": {
           "automargin": true,
           "gridcolor": "white",
           "linecolor": "white",
           "ticks": "",
           "title": {
            "standoff": 15
           },
           "zerolinecolor": "white",
           "zerolinewidth": 2
          }
         }
        },
        "width": 800
       }
      }
     },
     "metadata": {},
     "output_type": "display_data"
    }
   ],
   "source": [
    "nodes = get_data('./data/nodes.json')\n",
    "\n",
    "paths_ga = [[int(i) for i in ga_results['Shortest Path'][33].split(' -> ')]] \n",
    "paths_aco = [[int(i) for i in aco_results['Shortest Path'][33].split(' -> ')]] \n",
    "\n",
    "\n",
    "plot_graph(nodes, paths_ga)\n",
    "plot_graph(nodes, paths_aco)"
   ]
  }
 ],
 "metadata": {
  "kernelspec": {
   "display_name": "Python 3",
   "language": "python",
   "name": "python3"
  },
  "language_info": {
   "codemirror_mode": {
    "name": "ipython",
    "version": 3
   },
   "file_extension": ".py",
   "mimetype": "text/x-python",
   "name": "python",
   "nbconvert_exporter": "python",
   "pygments_lexer": "ipython3",
   "version": "3.13.2"
  }
 },
 "nbformat": 4,
 "nbformat_minor": 5
}
