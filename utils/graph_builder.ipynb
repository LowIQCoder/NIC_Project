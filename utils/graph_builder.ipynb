{
 "cells": [
  {
   "cell_type": "markdown",
   "metadata": {},
   "source": [
    "# Interconnected Graph Builder\n",
    "\n",
    "Here you can find all processes of building our dataset - graph of Innopolis city. All coordinates of city buildings were collected manualy with use of 'Yandex Maps'. Now all we need to complete our dataset is to build graph."
   ]
  },
  {
   "cell_type": "code",
   "execution_count": 11,
   "metadata": {},
   "outputs": [],
   "source": [
    "import os\n",
    "import json\n",
    "from geopy.distance import geodesic"
   ]
  },
  {
   "cell_type": "markdown",
   "metadata": {},
   "source": [
    "Some functions for retriving and saving data"
   ]
  },
  {
   "cell_type": "code",
   "execution_count": 12,
   "metadata": {},
   "outputs": [],
   "source": [
    "def get_data(path: str) -> list:\n",
    "    \"\"\" Extracts nodes and graph information from given json file\n",
    "\n",
    "    Args:\n",
    "        path (str): Path to file\n",
    "\n",
    "    Returns:\n",
    "        List of nodes with its names, ids, and coords\n",
    "    \"\"\"\n",
    "    PATH = os.path.abspath(path)\n",
    "\n",
    "    with open(PATH, 'r') as file:\n",
    "        data = json.load(file)\n",
    "        nodes = data['nodes']\n",
    "\n",
    "        return nodes"
   ]
  },
  {
   "cell_type": "code",
   "execution_count": 13,
   "metadata": {},
   "outputs": [],
   "source": [
    "def save_data(path: str, nodes: list, graph: list) -> None:\n",
    "    \"\"\" Saves nodes and graph to json file\n",
    "\n",
    "    Args:\n",
    "        path (str): Path to json\n",
    "        nodes (list): List of nodes\n",
    "        graph (list): 2D array of distances\n",
    "    \"\"\"\n",
    "    PATH = os.path.abspath(path)\n",
    "\n",
    "    data = {\n",
    "        'nodes': nodes,\n",
    "        'graph': graph\n",
    "    }\n",
    "\n",
    "    with open(PATH, 'w') as file:\n",
    "        json.dump(data, file)"
   ]
  },
  {
   "cell_type": "markdown",
   "metadata": {},
   "source": [
    "To convert longitude and attitude to distances in graph **geopy** library were used "
   ]
  },
  {
   "cell_type": "code",
   "execution_count": 14,
   "metadata": {},
   "outputs": [],
   "source": [
    "def get_distances(nodes: list) -> list:\n",
    "    \"\"\" Generates 2D array of distances\n",
    "\n",
    "    Args:\n",
    "        nodes (list): List of nodes\n",
    "\n",
    "    Returns:\n",
    "        list: 2D array of distances\n",
    "    \"\"\"\n",
    "    graph = [[0 for _ in range(len(nodes))] for __ in range(len(nodes))]\n",
    "\n",
    "    for node1 in nodes:\n",
    "        for node2 in nodes:\n",
    "            if node1['id'] == node2['id']:\n",
    "                continue\n",
    "\n",
    "            cord1 = (node1['atd'], node1['lng'])\n",
    "            cord2 = (node2['atd'], node2['lng'])\n",
    "\n",
    "            graph[node1['id']][node2['id']] = geodesic(cord1, cord2).m\n",
    "            graph[node2['id']][node1['id']]  = graph[node1['id']][node2['id']] \n",
    "\n",
    "    return graph"
   ]
  },
  {
   "cell_type": "markdown",
   "metadata": {},
   "source": [
    "Now we can convert coordinates to distances and save them in **graph.json** file"
   ]
  },
  {
   "cell_type": "code",
   "execution_count": 15,
   "metadata": {},
   "outputs": [],
   "source": [
    "nodes = get_data('../data/nodes.json')\n",
    "graph = get_distances(nodes)\n",
    "save_data('../data/graph.json', nodes, graph)"
   ]
  }
 ],
 "metadata": {
  "kernelspec": {
   "display_name": "Python 3",
   "language": "python",
   "name": "python3"
  },
  "language_info": {
   "codemirror_mode": {
    "name": "ipython",
    "version": 3
   },
   "file_extension": ".py",
   "mimetype": "text/x-python",
   "name": "python",
   "nbconvert_exporter": "python",
   "pygments_lexer": "ipython3",
   "version": "3.12.1"
  }
 },
 "nbformat": 4,
 "nbformat_minor": 2
}
