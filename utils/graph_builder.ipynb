{
 "cells": [
  {
   "cell_type": "markdown",
   "metadata": {},
   "source": [
    "# Interconnected Graph Builder\n",
    "\n",
    "Here you can find all processes of building our dataset - graph of Innopolis city. All coordinates of city buildings were collected manualy with use of 'Yandex Maps'. Now all we need to complete our dataset is to build graph."
   ]
  },
  {
   "cell_type": "code",
   "execution_count": 22,
   "metadata": {},
   "outputs": [],
   "source": [
    "import os\n",
    "import json\n",
    "from geopy.distance import geodesic\n",
    "import plotly.express as px\n",
    "import plotly.graph_objects as go\n",
    "import pandas as pd"
   ]
  },
  {
   "cell_type": "markdown",
   "metadata": {},
   "source": [
    "Some functions for retriving and saving data"
   ]
  },
  {
   "cell_type": "code",
   "execution_count": 2,
   "metadata": {},
   "outputs": [],
   "source": [
    "def get_data(path: str) -> list:\n",
    "    \"\"\" Extracts nodes and graph information from given json file\n",
    "\n",
    "    Args:\n",
    "        path (str): Path to file\n",
    "\n",
    "    Returns:\n",
    "        List of nodes with its names, ids, and coords\n",
    "    \"\"\"\n",
    "    PATH = os.path.abspath(path)\n",
    "\n",
    "    with open(PATH, 'r') as file:\n",
    "        data = json.load(file)\n",
    "        nodes = data['nodes']\n",
    "\n",
    "        return nodes"
   ]
  },
  {
   "cell_type": "code",
   "execution_count": 3,
   "metadata": {},
   "outputs": [],
   "source": [
    "def save_data(path: str, nodes: list, graph: list) -> None:\n",
    "    \"\"\" Saves nodes and graph to json file\n",
    "\n",
    "    Args:\n",
    "        path (str): Path to json\n",
    "        nodes (list): List of nodes\n",
    "        graph (list): 2D array of distances\n",
    "    \"\"\"\n",
    "    PATH = os.path.abspath(path)\n",
    "\n",
    "    data = {\n",
    "        'nodes': nodes,\n",
    "        'graph': graph\n",
    "    }\n",
    "\n",
    "    with open(PATH, 'w') as file:\n",
    "        json.dump(data, file)"
   ]
  },
  {
   "cell_type": "markdown",
   "metadata": {},
   "source": [
    "Additionally we add functionality to plot graphs"
   ]
  },
  {
   "cell_type": "code",
   "execution_count": 50,
   "metadata": {},
   "outputs": [],
   "source": [
    "def plot_graph(nodes: list, paths:list = None) -> None:\n",
    "    \"\"\" Plots graph and paths if needed\n",
    "\n",
    "    Args:\n",
    "        nodes (list): List of nodes\n",
    "        paths (list): List of paths \n",
    "    \"\"\"\n",
    "    \n",
    "    df = pd.DataFrame(nodes)\n",
    "\n",
    "    fig = px.scatter_map(df,\n",
    "                        lat=\"atd\",\n",
    "                        lon=\"lng\",\n",
    "                        hover_name=\"name\",\n",
    "                        color=\"id\",\n",
    "                        color_continuous_scale=px.colors.sequential.Viridis,\n",
    "                        zoom=14,\n",
    "                        height=800,\n",
    "                        width=800)\n",
    "    \n",
    "    if paths is not None:\n",
    "        coord_map = {row['id']: (row['atd'], row['lng']) for _, row in df.iterrows()}\n",
    "        \n",
    "        path_colors = px.colors.qualitative.Plotly\n",
    "        \n",
    "        for i, path in enumerate(paths):\n",
    "            lats, lons = [], []\n",
    "            for node_id in path:\n",
    "                lat, lon = coord_map[node_id]\n",
    "                lats.append(lat)\n",
    "                lons.append(lon)\n",
    "            \n",
    "            fig.add_trace(go.Scattermap(\n",
    "                mode=\"lines+markers\",\n",
    "                lon=lons,\n",
    "                lat=lats,\n",
    "                line=dict(width=3, color=path_colors[i % len(path_colors)]),\n",
    "                name=f\"Path {i+1}\",\n",
    "                marker=dict(size=8, color=path_colors[i % len(path_colors)]),\n",
    "                hoverinfo=\"none\"\n",
    "            ))\n",
    "\n",
    "    fig.update_layout(mapbox_style=\"open-street-map\")\n",
    "    fig.update_layout(margin={\"r\":0,\"t\":0,\"l\":0,\"b\":0},\n",
    "                    coloraxis_showscale=False)\n",
    "    fig.show()"
   ]
  },
  {
   "cell_type": "markdown",
   "metadata": {},
   "source": [
    "To convert longitude and attitude to distances in graph **geopy** library were used "
   ]
  },
  {
   "cell_type": "code",
   "execution_count": 4,
   "metadata": {},
   "outputs": [],
   "source": [
    "def get_distances(nodes: list) -> list:\n",
    "    \"\"\" Generates 2D array of distances\n",
    "\n",
    "    Args:\n",
    "        nodes (list): List of nodes\n",
    "\n",
    "    Returns:\n",
    "        list: 2D array of distances\n",
    "    \"\"\"\n",
    "    graph = [[0 for _ in range(len(nodes))] for __ in range(len(nodes))]\n",
    "\n",
    "    for node1 in nodes:\n",
    "        for node2 in nodes:\n",
    "            if node1['id'] == node2['id']:\n",
    "                continue\n",
    "\n",
    "            cord1 = (node1['atd'], node1['lng'])\n",
    "            cord2 = (node2['atd'], node2['lng'])\n",
    "\n",
    "            graph[node1['id']][node2['id']] = geodesic(cord1, cord2).m\n",
    "            graph[node2['id']][node1['id']]  = graph[node1['id']][node2['id']] \n",
    "\n",
    "    return graph"
   ]
  },
  {
   "cell_type": "markdown",
   "metadata": {},
   "source": [
    "Now we can convert coordinates to distances and save them in **graph.json** file"
   ]
  },
  {
   "cell_type": "code",
   "execution_count": 51,
   "metadata": {},
   "outputs": [],
   "source": [
    "nodes = get_data('../data/nodes.json')\n",
    "graph = get_distances(nodes)\n",
    "save_data('../data/graph.json', nodes, graph)"
   ]
  },
  {
   "cell_type": "markdown",
   "metadata": {},
   "source": [
    "Now we can plot our graph and try to plot some paths"
   ]
  },
  {
   "cell_type": "code",
   "execution_count": 52,
   "metadata": {},
   "outputs": [
    {
     "data": {
      "application/vnd.plotly.v1+json": {
       "config": {
        "plotlyServerURL": "https://plot.ly"
       },
       "data": [
        {
         "hovertemplate": "<b>%{hovertext}</b><br><br>atd=%{lat}<br>lng=%{lon}<br>id=%{marker.color}<extra></extra>",
         "hovertext": [
          "pyatorochka",
          "dorm2",
          "dorm3",
          "dorm4",
          "dorm5",
          "dorm6",
          "dorm7",
          "uni",
          "sport",
          "dorm1",
          "d140",
          "d142",
          "d138",
          "d124",
          "galka",
          "d116",
          "yarmarka",
          "d118",
          "d134",
          "d136",
          "d132",
          "big_boss",
          "d130",
          "d120",
          "d122",
          "d112",
          "d104",
          "d106",
          "d114",
          "bublik",
          "d108",
          "magnit",
          "d102",
          "d100",
          "artspace",
          "hotel",
          "hospital",
          "d98"
         ],
         "lat": {
          "bdata": "h9wMN+DfS0C1pQ7yeuBLQLWlDvJ64EtAHsAiv37gS0Dsa11qhOBLQMGNlC2S4EtAUtMuppngS0D+uWjIeOBLQGsqi8Iu4EtAI/jfSnbgS0A5fxMKEeBLQFuzlZf830tAcAuW6gLgS0AapyGq8N9LQGFvYkhO4EtA4ltYN97fS0AI5ujxe99LQPw2xHjN30tAPDJWm//fS0C9OseA7N9LQMvVj03y30tAh9wMN+DfS0Djpgaaz99LQCANp8zN30tAamyvBb3fS0Aea0YGud9LQLeb4Jum30tAJNHLKJbfS0BcHJWbqN9LQB123zE84EtAw6BMo8nfS0Aw1jcwud9LQMgG0sWm30tAW9HmOLffS0ANqg1ORN9LQAWHF0Sk4EtAo1aYvtfgS0CJC0CjdN9LQA==",
          "dtype": "f8"
         },
         "legendgroup": "",
         "lon": {
          "bdata": "5WGh1jRfSEAE5Euo4F5IQG743XTLXkhAH4XrUbheSEBv1XWopl5IQJnVO9wOX0hAQIS4cvZeSEDVdaimJF9IQEp/L4UHX0hAraI/NPNeSEBlcJS8Ol9IQBjqsMItX0hAqu6RzVVfSEAP7zmwHF9IQEBNLVvrX0hAs5lDUgtfSEAXnwJgPF9IQOJXrOEiX0hAuvdwyXFfSEAUJoxmZV9IQKYqbXGNX0hAXoWUn1RfSECNQ/0ubF9IQAEwnkFDX0hAMe4G0VpfSEBfYizTL19IQAINNnUeX0hA2H+dmzZfSEA01ZP5R19IQMdim1Q0YEhANKK0N/heSEA5mbhVEF9IQN1Dwvf+XkhA10y+2eZeSEBKJTyh119IQD7QCgxZX0hAAFMGDmhfSECKdhVSfl5IQA==",
          "dtype": "f8"
         },
         "marker": {
          "color": {
           "bdata": "AAECAwQFBgcICQoLDA0ODxAREhMUFRYXGBkaGxwdHh8gISIjJCU=",
           "dtype": "i1"
          },
          "coloraxis": "coloraxis"
         },
         "mode": "markers",
         "name": "",
         "showlegend": false,
         "subplot": "map",
         "type": "scattermap"
        },
        {
         "hoverinfo": "none",
         "lat": [
          55.753752,
          55.753752,
          55.753868,
          55.754041
         ],
         "line": {
          "color": "#636EFA",
          "width": 3
         },
         "lon": [
          48.741231,
          48.740584,
          48.74,
          48.739461
         ],
         "marker": {
          "color": "#636EFA",
          "size": 8
         },
         "mode": "lines+markers",
         "name": "Path 1",
         "type": "scattermap"
        },
        {
         "hoverinfo": "none",
         "lat": [
          55.750089,
          55.75052,
          55.754461,
          55.754689
         ],
         "line": {
          "color": "#EF553B",
          "width": 3
         },
         "lon": [
          48.744806,
          48.74398,
          48.742641,
          48.741896
         ],
         "marker": {
          "color": "#EF553B",
          "size": 8
         },
         "mode": "lines+markers",
         "name": "Path 2",
         "type": "scattermap"
        },
        {
         "hoverinfo": "none",
         "lat": [
          55.747839,
          55.747277,
          55.747779
         ],
         "line": {
          "color": "#00CC96",
          "width": 3
         },
         "lon": [
          48.742686,
          48.742156,
          48.74142
         ],
         "marker": {
          "color": "#00CC96",
          "size": 8
         },
         "mode": "lines+markers",
         "name": "Path 3",
         "type": "scattermap"
        },
        {
         "hoverinfo": "none",
         "lat": [
          55.748523,
          55.74903
         ],
         "line": {
          "color": "#AB63FA",
          "width": 3
         },
         "lon": [
          48.745489,
          48.74477
         ],
         "marker": {
          "color": "#AB63FA",
          "size": 8
         },
         "mode": "lines+markers",
         "name": "Path 4",
         "type": "scattermap"
        }
       ],
       "layout": {
        "coloraxis": {
         "colorbar": {
          "title": {
           "text": "id"
          }
         },
         "colorscale": [
          [
           0,
           "#440154"
          ],
          [
           0.1111111111111111,
           "#482878"
          ],
          [
           0.2222222222222222,
           "#3e4989"
          ],
          [
           0.3333333333333333,
           "#31688e"
          ],
          [
           0.4444444444444444,
           "#26828e"
          ],
          [
           0.5555555555555556,
           "#1f9e89"
          ],
          [
           0.6666666666666666,
           "#35b779"
          ],
          [
           0.7777777777777778,
           "#6ece58"
          ],
          [
           0.8888888888888888,
           "#b5de2b"
          ],
          [
           1,
           "#fde725"
          ]
         ],
         "showscale": false
        },
        "height": 800,
        "legend": {
         "tracegroupgap": 0
        },
        "map": {
         "center": {
          "lat": 55.75013128947367,
          "lon": 48.74370347368421
         },
         "domain": {
          "x": [
           0,
           1
          ],
          "y": [
           0,
           1
          ]
         },
         "zoom": 14
        },
        "mapbox": {
         "center": {
          "lat": 55.75013128947367,
          "lon": 48.74370347368421
         },
         "style": "open-street-map",
         "zoom": 14
        },
        "margin": {
         "b": 0,
         "l": 0,
         "r": 0,
         "t": 0
        },
        "template": {
         "data": {
          "bar": [
           {
            "error_x": {
             "color": "#2a3f5f"
            },
            "error_y": {
             "color": "#2a3f5f"
            },
            "marker": {
             "line": {
              "color": "#E5ECF6",
              "width": 0.5
             },
             "pattern": {
              "fillmode": "overlay",
              "size": 10,
              "solidity": 0.2
             }
            },
            "type": "bar"
           }
          ],
          "barpolar": [
           {
            "marker": {
             "line": {
              "color": "#E5ECF6",
              "width": 0.5
             },
             "pattern": {
              "fillmode": "overlay",
              "size": 10,
              "solidity": 0.2
             }
            },
            "type": "barpolar"
           }
          ],
          "carpet": [
           {
            "aaxis": {
             "endlinecolor": "#2a3f5f",
             "gridcolor": "white",
             "linecolor": "white",
             "minorgridcolor": "white",
             "startlinecolor": "#2a3f5f"
            },
            "baxis": {
             "endlinecolor": "#2a3f5f",
             "gridcolor": "white",
             "linecolor": "white",
             "minorgridcolor": "white",
             "startlinecolor": "#2a3f5f"
            },
            "type": "carpet"
           }
          ],
          "choropleth": [
           {
            "colorbar": {
             "outlinewidth": 0,
             "ticks": ""
            },
            "type": "choropleth"
           }
          ],
          "contour": [
           {
            "colorbar": {
             "outlinewidth": 0,
             "ticks": ""
            },
            "colorscale": [
             [
              0,
              "#0d0887"
             ],
             [
              0.1111111111111111,
              "#46039f"
             ],
             [
              0.2222222222222222,
              "#7201a8"
             ],
             [
              0.3333333333333333,
              "#9c179e"
             ],
             [
              0.4444444444444444,
              "#bd3786"
             ],
             [
              0.5555555555555556,
              "#d8576b"
             ],
             [
              0.6666666666666666,
              "#ed7953"
             ],
             [
              0.7777777777777778,
              "#fb9f3a"
             ],
             [
              0.8888888888888888,
              "#fdca26"
             ],
             [
              1,
              "#f0f921"
             ]
            ],
            "type": "contour"
           }
          ],
          "contourcarpet": [
           {
            "colorbar": {
             "outlinewidth": 0,
             "ticks": ""
            },
            "type": "contourcarpet"
           }
          ],
          "heatmap": [
           {
            "colorbar": {
             "outlinewidth": 0,
             "ticks": ""
            },
            "colorscale": [
             [
              0,
              "#0d0887"
             ],
             [
              0.1111111111111111,
              "#46039f"
             ],
             [
              0.2222222222222222,
              "#7201a8"
             ],
             [
              0.3333333333333333,
              "#9c179e"
             ],
             [
              0.4444444444444444,
              "#bd3786"
             ],
             [
              0.5555555555555556,
              "#d8576b"
             ],
             [
              0.6666666666666666,
              "#ed7953"
             ],
             [
              0.7777777777777778,
              "#fb9f3a"
             ],
             [
              0.8888888888888888,
              "#fdca26"
             ],
             [
              1,
              "#f0f921"
             ]
            ],
            "type": "heatmap"
           }
          ],
          "histogram": [
           {
            "marker": {
             "pattern": {
              "fillmode": "overlay",
              "size": 10,
              "solidity": 0.2
             }
            },
            "type": "histogram"
           }
          ],
          "histogram2d": [
           {
            "colorbar": {
             "outlinewidth": 0,
             "ticks": ""
            },
            "colorscale": [
             [
              0,
              "#0d0887"
             ],
             [
              0.1111111111111111,
              "#46039f"
             ],
             [
              0.2222222222222222,
              "#7201a8"
             ],
             [
              0.3333333333333333,
              "#9c179e"
             ],
             [
              0.4444444444444444,
              "#bd3786"
             ],
             [
              0.5555555555555556,
              "#d8576b"
             ],
             [
              0.6666666666666666,
              "#ed7953"
             ],
             [
              0.7777777777777778,
              "#fb9f3a"
             ],
             [
              0.8888888888888888,
              "#fdca26"
             ],
             [
              1,
              "#f0f921"
             ]
            ],
            "type": "histogram2d"
           }
          ],
          "histogram2dcontour": [
           {
            "colorbar": {
             "outlinewidth": 0,
             "ticks": ""
            },
            "colorscale": [
             [
              0,
              "#0d0887"
             ],
             [
              0.1111111111111111,
              "#46039f"
             ],
             [
              0.2222222222222222,
              "#7201a8"
             ],
             [
              0.3333333333333333,
              "#9c179e"
             ],
             [
              0.4444444444444444,
              "#bd3786"
             ],
             [
              0.5555555555555556,
              "#d8576b"
             ],
             [
              0.6666666666666666,
              "#ed7953"
             ],
             [
              0.7777777777777778,
              "#fb9f3a"
             ],
             [
              0.8888888888888888,
              "#fdca26"
             ],
             [
              1,
              "#f0f921"
             ]
            ],
            "type": "histogram2dcontour"
           }
          ],
          "mesh3d": [
           {
            "colorbar": {
             "outlinewidth": 0,
             "ticks": ""
            },
            "type": "mesh3d"
           }
          ],
          "parcoords": [
           {
            "line": {
             "colorbar": {
              "outlinewidth": 0,
              "ticks": ""
             }
            },
            "type": "parcoords"
           }
          ],
          "pie": [
           {
            "automargin": true,
            "type": "pie"
           }
          ],
          "scatter": [
           {
            "fillpattern": {
             "fillmode": "overlay",
             "size": 10,
             "solidity": 0.2
            },
            "type": "scatter"
           }
          ],
          "scatter3d": [
           {
            "line": {
             "colorbar": {
              "outlinewidth": 0,
              "ticks": ""
             }
            },
            "marker": {
             "colorbar": {
              "outlinewidth": 0,
              "ticks": ""
             }
            },
            "type": "scatter3d"
           }
          ],
          "scattercarpet": [
           {
            "marker": {
             "colorbar": {
              "outlinewidth": 0,
              "ticks": ""
             }
            },
            "type": "scattercarpet"
           }
          ],
          "scattergeo": [
           {
            "marker": {
             "colorbar": {
              "outlinewidth": 0,
              "ticks": ""
             }
            },
            "type": "scattergeo"
           }
          ],
          "scattergl": [
           {
            "marker": {
             "colorbar": {
              "outlinewidth": 0,
              "ticks": ""
             }
            },
            "type": "scattergl"
           }
          ],
          "scattermap": [
           {
            "marker": {
             "colorbar": {
              "outlinewidth": 0,
              "ticks": ""
             }
            },
            "type": "scattermap"
           }
          ],
          "scattermapbox": [
           {
            "marker": {
             "colorbar": {
              "outlinewidth": 0,
              "ticks": ""
             }
            },
            "type": "scattermapbox"
           }
          ],
          "scatterpolar": [
           {
            "marker": {
             "colorbar": {
              "outlinewidth": 0,
              "ticks": ""
             }
            },
            "type": "scatterpolar"
           }
          ],
          "scatterpolargl": [
           {
            "marker": {
             "colorbar": {
              "outlinewidth": 0,
              "ticks": ""
             }
            },
            "type": "scatterpolargl"
           }
          ],
          "scatterternary": [
           {
            "marker": {
             "colorbar": {
              "outlinewidth": 0,
              "ticks": ""
             }
            },
            "type": "scatterternary"
           }
          ],
          "surface": [
           {
            "colorbar": {
             "outlinewidth": 0,
             "ticks": ""
            },
            "colorscale": [
             [
              0,
              "#0d0887"
             ],
             [
              0.1111111111111111,
              "#46039f"
             ],
             [
              0.2222222222222222,
              "#7201a8"
             ],
             [
              0.3333333333333333,
              "#9c179e"
             ],
             [
              0.4444444444444444,
              "#bd3786"
             ],
             [
              0.5555555555555556,
              "#d8576b"
             ],
             [
              0.6666666666666666,
              "#ed7953"
             ],
             [
              0.7777777777777778,
              "#fb9f3a"
             ],
             [
              0.8888888888888888,
              "#fdca26"
             ],
             [
              1,
              "#f0f921"
             ]
            ],
            "type": "surface"
           }
          ],
          "table": [
           {
            "cells": {
             "fill": {
              "color": "#EBF0F8"
             },
             "line": {
              "color": "white"
             }
            },
            "header": {
             "fill": {
              "color": "#C8D4E3"
             },
             "line": {
              "color": "white"
             }
            },
            "type": "table"
           }
          ]
         },
         "layout": {
          "annotationdefaults": {
           "arrowcolor": "#2a3f5f",
           "arrowhead": 0,
           "arrowwidth": 1
          },
          "autotypenumbers": "strict",
          "coloraxis": {
           "colorbar": {
            "outlinewidth": 0,
            "ticks": ""
           }
          },
          "colorscale": {
           "diverging": [
            [
             0,
             "#8e0152"
            ],
            [
             0.1,
             "#c51b7d"
            ],
            [
             0.2,
             "#de77ae"
            ],
            [
             0.3,
             "#f1b6da"
            ],
            [
             0.4,
             "#fde0ef"
            ],
            [
             0.5,
             "#f7f7f7"
            ],
            [
             0.6,
             "#e6f5d0"
            ],
            [
             0.7,
             "#b8e186"
            ],
            [
             0.8,
             "#7fbc41"
            ],
            [
             0.9,
             "#4d9221"
            ],
            [
             1,
             "#276419"
            ]
           ],
           "sequential": [
            [
             0,
             "#0d0887"
            ],
            [
             0.1111111111111111,
             "#46039f"
            ],
            [
             0.2222222222222222,
             "#7201a8"
            ],
            [
             0.3333333333333333,
             "#9c179e"
            ],
            [
             0.4444444444444444,
             "#bd3786"
            ],
            [
             0.5555555555555556,
             "#d8576b"
            ],
            [
             0.6666666666666666,
             "#ed7953"
            ],
            [
             0.7777777777777778,
             "#fb9f3a"
            ],
            [
             0.8888888888888888,
             "#fdca26"
            ],
            [
             1,
             "#f0f921"
            ]
           ],
           "sequentialminus": [
            [
             0,
             "#0d0887"
            ],
            [
             0.1111111111111111,
             "#46039f"
            ],
            [
             0.2222222222222222,
             "#7201a8"
            ],
            [
             0.3333333333333333,
             "#9c179e"
            ],
            [
             0.4444444444444444,
             "#bd3786"
            ],
            [
             0.5555555555555556,
             "#d8576b"
            ],
            [
             0.6666666666666666,
             "#ed7953"
            ],
            [
             0.7777777777777778,
             "#fb9f3a"
            ],
            [
             0.8888888888888888,
             "#fdca26"
            ],
            [
             1,
             "#f0f921"
            ]
           ]
          },
          "colorway": [
           "#636efa",
           "#EF553B",
           "#00cc96",
           "#ab63fa",
           "#FFA15A",
           "#19d3f3",
           "#FF6692",
           "#B6E880",
           "#FF97FF",
           "#FECB52"
          ],
          "font": {
           "color": "#2a3f5f"
          },
          "geo": {
           "bgcolor": "white",
           "lakecolor": "white",
           "landcolor": "#E5ECF6",
           "showlakes": true,
           "showland": true,
           "subunitcolor": "white"
          },
          "hoverlabel": {
           "align": "left"
          },
          "hovermode": "closest",
          "mapbox": {
           "style": "light"
          },
          "paper_bgcolor": "white",
          "plot_bgcolor": "#E5ECF6",
          "polar": {
           "angularaxis": {
            "gridcolor": "white",
            "linecolor": "white",
            "ticks": ""
           },
           "bgcolor": "#E5ECF6",
           "radialaxis": {
            "gridcolor": "white",
            "linecolor": "white",
            "ticks": ""
           }
          },
          "scene": {
           "xaxis": {
            "backgroundcolor": "#E5ECF6",
            "gridcolor": "white",
            "gridwidth": 2,
            "linecolor": "white",
            "showbackground": true,
            "ticks": "",
            "zerolinecolor": "white"
           },
           "yaxis": {
            "backgroundcolor": "#E5ECF6",
            "gridcolor": "white",
            "gridwidth": 2,
            "linecolor": "white",
            "showbackground": true,
            "ticks": "",
            "zerolinecolor": "white"
           },
           "zaxis": {
            "backgroundcolor": "#E5ECF6",
            "gridcolor": "white",
            "gridwidth": 2,
            "linecolor": "white",
            "showbackground": true,
            "ticks": "",
            "zerolinecolor": "white"
           }
          },
          "shapedefaults": {
           "line": {
            "color": "#2a3f5f"
           }
          },
          "ternary": {
           "aaxis": {
            "gridcolor": "white",
            "linecolor": "white",
            "ticks": ""
           },
           "baxis": {
            "gridcolor": "white",
            "linecolor": "white",
            "ticks": ""
           },
           "bgcolor": "#E5ECF6",
           "caxis": {
            "gridcolor": "white",
            "linecolor": "white",
            "ticks": ""
           }
          },
          "title": {
           "x": 0.05
          },
          "xaxis": {
           "automargin": true,
           "gridcolor": "white",
           "linecolor": "white",
           "ticks": "",
           "title": {
            "standoff": 15
           },
           "zerolinecolor": "white",
           "zerolinewidth": 2
          },
          "yaxis": {
           "automargin": true,
           "gridcolor": "white",
           "linecolor": "white",
           "ticks": "",
           "title": {
            "standoff": 15
           },
           "zerolinecolor": "white",
           "zerolinewidth": 2
          }
         }
        },
        "width": 800
       }
      }
     },
     "metadata": {},
     "output_type": "display_data"
    }
   ],
   "source": [
    "paths = [[1, 2, 3, 4],\n",
    "         [12, 10, 5, 6],\n",
    "         [31, 32, 33],\n",
    "         [22, 21]]\n",
    "\n",
    "plot_graph(nodes, paths)"
   ]
  }
 ],
 "metadata": {
  "kernelspec": {
   "display_name": "Python 3",
   "language": "python",
   "name": "python3"
  },
  "language_info": {
   "codemirror_mode": {
    "name": "ipython",
    "version": 3
   },
   "file_extension": ".py",
   "mimetype": "text/x-python",
   "name": "python",
   "nbconvert_exporter": "python",
   "pygments_lexer": "ipython3",
   "version": "3.13.2"
  }
 },
 "nbformat": 4,
 "nbformat_minor": 2
}
