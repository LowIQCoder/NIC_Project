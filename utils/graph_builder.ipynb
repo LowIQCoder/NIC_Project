{
 "cells": [
  {
   "cell_type": "markdown",
   "metadata": {},
   "source": [
    "# Interconnected Graph Builder\n",
    "\n",
    "Here you can find all processes of building our dataset - graph of Innopolis city. All coordinates of city buildings were collected manualy with use of 'Yandex Maps'. Now all we need to complete our dataset is to build graph."
   ]
  },
  {
   "cell_type": "code",
   "execution_count": 29,
   "metadata": {},
   "outputs": [],
   "source": [
    "import os\n",
    "import json\n",
    "from geopy.distance import geodesic\n",
    "import plotly.express as px\n",
    "import plotly.graph_objects as go\n",
    "import pandas as pd\n",
    "\n",
    "import matplotlib.pyplot as plt"
   ]
  },
  {
   "cell_type": "markdown",
   "metadata": {},
   "source": [
    "Some functions for retriving and saving data"
   ]
  },
  {
   "cell_type": "code",
   "execution_count": 30,
   "metadata": {},
   "outputs": [],
   "source": [
    "def get_data(path: str) -> list:\n",
    "    \"\"\" Extracts nodes and graph information from given json file\n",
    "\n",
    "    Args:\n",
    "        path (str): Path to file\n",
    "\n",
    "    Returns:\n",
    "        List of nodes with its names, ids, and coords\n",
    "    \"\"\"\n",
    "    PATH = os.path.abspath(path)\n",
    "\n",
    "    with open(PATH, 'r') as file:\n",
    "        data = json.load(file)\n",
    "        nodes = data['nodes']\n",
    "\n",
    "        return nodes"
   ]
  },
  {
   "cell_type": "code",
   "execution_count": 31,
   "metadata": {},
   "outputs": [],
   "source": [
    "def save_data(path: str, nodes: list, graph: list) -> None:\n",
    "    \"\"\" Saves nodes and graph to json file\n",
    "\n",
    "    Args:\n",
    "        path (str): Path to json\n",
    "        nodes (list): List of nodes\n",
    "        graph (list): 2D array of distances\n",
    "    \"\"\"\n",
    "    PATH = os.path.abspath(path)\n",
    "\n",
    "    data = {\n",
    "        'nodes': nodes,\n",
    "        'graph': graph\n",
    "    }\n",
    "\n",
    "    with open(PATH, 'w') as file:\n",
    "        json.dump(data, file)"
   ]
  },
  {
   "cell_type": "markdown",
   "metadata": {},
   "source": [
    "Additionally we add functionality to plot graphs"
   ]
  },
  {
   "cell_type": "code",
   "execution_count": 32,
   "metadata": {},
   "outputs": [],
   "source": [
    "def plot_graph(nodes: list, paths:list = None) -> None:\n",
    "    \"\"\" Plots graph and paths if needed\n",
    "\n",
    "    Args:\n",
    "        nodes (list): List of nodes\n",
    "        paths (list): List of paths \n",
    "    \"\"\"\n",
    "    \n",
    "    df = pd.DataFrame(nodes)\n",
    "\n",
    "    fig = px.scatter_map(df,\n",
    "                        lat=\"atd\",\n",
    "                        lon=\"lng\",\n",
    "                        hover_name=\"name\",\n",
    "                        color=\"id\",\n",
    "                        color_continuous_scale=px.colors.sequential.Viridis,\n",
    "                        zoom=14,\n",
    "                        height=800,\n",
    "                        width=800)\n",
    "    \n",
    "    if paths is not None:\n",
    "        coord_map = {row['id']: (row['atd'], row['lng']) for _, row in df.iterrows()}\n",
    "        \n",
    "        path_colors = px.colors.qualitative.Plotly\n",
    "        \n",
    "        for i, path in enumerate(paths):\n",
    "            lats, lons = [], []\n",
    "            for node_id in path:\n",
    "                lat, lon = coord_map[node_id]\n",
    "                lats.append(lat)\n",
    "                lons.append(lon)\n",
    "            \n",
    "            fig.add_trace(go.Scattermap(\n",
    "                mode=\"lines+markers\",\n",
    "                lon=lons,\n",
    "                lat=lats,\n",
    "                line=dict(width=3, color=path_colors[i % len(path_colors)]),\n",
    "                name=f\"Path {i+1}\",\n",
    "                marker=dict(size=8, color=path_colors[i % len(path_colors)]),\n",
    "                hoverinfo=\"none\"\n",
    "            ))\n",
    "\n",
    "    fig.update_layout(mapbox_style=\"open-street-map\")\n",
    "    fig.update_layout(margin={\"r\":0,\"t\":0,\"l\":0,\"b\":0},\n",
    "                    coloraxis_showscale=False)\n",
    "    fig.show()"
   ]
  },
  {
   "cell_type": "markdown",
   "metadata": {},
   "source": [
    "To convert longitude and attitude to distances in graph **geopy** library were used "
   ]
  },
  {
   "cell_type": "code",
   "execution_count": 33,
   "metadata": {},
   "outputs": [],
   "source": [
    "def get_distances(nodes: list) -> list:\n",
    "    \"\"\" Generates 2D array of distances\n",
    "\n",
    "    Args:\n",
    "        nodes (list): List of nodes\n",
    "\n",
    "    Returns:\n",
    "        list: 2D array of distances\n",
    "    \"\"\"\n",
    "    graph = [[0 for _ in range(len(nodes))] for __ in range(len(nodes))]\n",
    "\n",
    "    for node1 in nodes[:20]:\n",
    "        for node2 in nodes[:20]:\n",
    "            if node1['id'] == node2['id']:\n",
    "                continue\n",
    "\n",
    "            cord1 = (node1['atd'], node1['lng'])\n",
    "            cord2 = (node2['atd'], node2['lng'])\n",
    "\n",
    "            graph[node1['id']][node2['id']] = geodesic(cord1, cord2).m\n",
    "            graph[node2['id']][node1['id']]  = graph[node1['id']][node2['id']] \n",
    "\n",
    "    return graph"
   ]
  },
  {
   "cell_type": "markdown",
   "metadata": {},
   "source": [
    "Now we can convert coordinates to distances and save them in **graph.json** file"
   ]
  },
  {
   "cell_type": "code",
   "execution_count": 34,
   "metadata": {},
   "outputs": [],
   "source": [
    "nodes = get_data('../data/nodes.json')\n",
    "graph = get_distances(nodes)\n",
    "save_data('../data/graph.json', nodes, graph)"
   ]
  },
  {
   "cell_type": "markdown",
   "metadata": {},
   "source": [
    "Now we can plot our graph and try to plot some paths"
   ]
  },
  {
   "cell_type": "code",
   "execution_count": 35,
   "metadata": {},
   "outputs": [
    {
     "data": {
      "application/vnd.plotly.v1+json": {
       "config": {
        "plotlyServerURL": "https://plot.ly"
       },
       "data": [
        {
         "hovertemplate": "<b>%{hovertext}</b><br><br>atd=%{lat}<br>lng=%{lon}<br>id=%{marker.color}<extra></extra>",
         "hovertext": [
          "pyatorochka",
          "dorm2",
          "dorm3",
          "dorm4",
          "dorm5",
          "dorm6",
          "dorm7",
          "uni",
          "sport",
          "dorm1",
          "d140",
          "d142",
          "d138",
          "d124",
          "galka",
          "d116",
          "yarmarka",
          "d118",
          "d134",
          "d136",
          "d132",
          "big_boss",
          "d130",
          "d120",
          "d122",
          "d112",
          "d104",
          "d106",
          "d114",
          "bublik",
          "d108",
          "magnit",
          "d102",
          "d100",
          "artspace",
          "hotel",
          "hospital",
          "d98"
         ],
         "lat": {
          "bdata": "h9wMN+DfS0C1pQ7yeuBLQLWlDvJ64EtAHsAiv37gS0Dsa11qhOBLQMGNlC2S4EtAUtMuppngS0D+uWjIeOBLQGsqi8Iu4EtAI/jfSnbgS0A5fxMKEeBLQFuzlZf830tAcAuW6gLgS0AapyGq8N9LQGFvYkhO4EtA4ltYN97fS0AI5ujxe99LQPw2xHjN30tAPDJWm//fS0C9OseA7N9LQMvVj03y30tAh9wMN+DfS0Djpgaaz99LQCANp8zN30tAamyvBb3fS0Aea0YGud9LQLeb4Jum30tAJNHLKJbfS0BcHJWbqN9LQB123zE84EtAw6BMo8nfS0Aw1jcwud9LQMgG0sWm30tAW9HmOLffS0ANqg1ORN9LQAWHF0Sk4EtAo1aYvtfgS0CJC0CjdN9LQA==",
          "dtype": "f8"
         },
         "legendgroup": "",
         "lon": {
          "bdata": "5WGh1jRfSEAE5Euo4F5IQG743XTLXkhAH4XrUbheSEBv1XWopl5IQJnVO9wOX0hAQIS4cvZeSEDVdaimJF9IQEp/L4UHX0hAraI/NPNeSEBlcJS8Ol9IQBjqsMItX0hAqu6RzVVfSEAP7zmwHF9IQEBNLVvrX0hAs5lDUgtfSEAXnwJgPF9IQOJXrOEiX0hAuvdwyXFfSEAUJoxmZV9IQKYqbXGNX0hAXoWUn1RfSECNQ/0ubF9IQAEwnkFDX0hAMe4G0VpfSEBfYizTL19IQAINNnUeX0hA2H+dmzZfSEA01ZP5R19IQMdim1Q0YEhANKK0N/heSEA5mbhVEF9IQN1Dwvf+XkhA10y+2eZeSEBKJTyh119IQD7QCgxZX0hAAFMGDmhfSECKdhVSfl5IQA==",
          "dtype": "f8"
         },
         "marker": {
          "color": {
           "bdata": "AAECAwQFBgcICQoLDA0ODxAREhMUFRYXGBkaGxwdHh8gISIjJCU=",
           "dtype": "i1"
          },
          "coloraxis": "coloraxis"
         },
         "mode": "markers",
         "name": "",
         "showlegend": false,
         "subplot": "map",
         "type": "scattermap"
        },
        {
         "hoverinfo": "none",
         "lat": [
          55.753752,
          55.753752,
          55.753868,
          55.754041
         ],
         "line": {
          "color": "#636EFA",
          "width": 3
         },
         "lon": [
          48.741231,
          48.740584,
          48.74,
          48.739461
         ],
         "marker": {
          "color": "#636EFA",
          "size": 8
         },
         "mode": "lines+markers",
         "name": "Path 1",
         "type": "scattermap"
        },
        {
         "hoverinfo": "none",
         "lat": [
          55.750089,
          55.75052,
          55.754461,
          55.754689
         ],
         "line": {
          "color": "#EF553B",
          "width": 3
         },
         "lon": [
          48.744806,
          48.74398,
          48.742641,
          48.741896
         ],
         "marker": {
          "color": "#EF553B",
          "size": 8
         },
         "mode": "lines+markers",
         "name": "Path 2",
         "type": "scattermap"
        },
        {
         "hoverinfo": "none",
         "lat": [
          55.747839,
          55.747277,
          55.747779
         ],
         "line": {
          "color": "#00CC96",
          "width": 3
         },
         "lon": [
          48.742686,
          48.742156,
          48.74142
         ],
         "marker": {
          "color": "#00CC96",
          "size": 8
         },
         "mode": "lines+markers",
         "name": "Path 3",
         "type": "scattermap"
        },
        {
         "hoverinfo": "none",
         "lat": [
          55.748523,
          55.74903
         ],
         "line": {
          "color": "#AB63FA",
          "width": 3
         },
         "lon": [
          48.745489,
          48.74477
         ],
         "marker": {
          "color": "#AB63FA",
          "size": 8
         },
         "mode": "lines+markers",
         "name": "Path 4",
         "type": "scattermap"
        }
       ],
       "layout": {
        "coloraxis": {
         "colorbar": {
          "title": {
           "text": "id"
          }
         },
         "colorscale": [
          [
           0,
           "#440154"
          ],
          [
           0.1111111111111111,
           "#482878"
          ],
          [
           0.2222222222222222,
           "#3e4989"
          ],
          [
           0.3333333333333333,
           "#31688e"
          ],
          [
           0.4444444444444444,
           "#26828e"
          ],
          [
           0.5555555555555556,
           "#1f9e89"
          ],
          [
           0.6666666666666666,
           "#35b779"
          ],
          [
           0.7777777777777778,
           "#6ece58"
          ],
          [
           0.8888888888888888,
           "#b5de2b"
          ],
          [
           1,
           "#fde725"
          ]
         ],
         "showscale": false
        },
        "height": 800,
        "legend": {
         "tracegroupgap": 0
        },
        "map": {
         "center": {
          "lat": 55.75013128947367,
          "lon": 48.74370347368421
         },
         "domain": {
          "x": [
           0,
           1
          ],
          "y": [
           0,
           1
          ]
         },
         "zoom": 14
        },
        "mapbox": {
         "center": {
          "lat": 55.75013128947367,
          "lon": 48.74370347368421
         },
         "style": "open-street-map",
         "zoom": 14
        },
        "margin": {
         "b": 0,
         "l": 0,
         "r": 0,
         "t": 0
        },
        "template": {
         "data": {
          "bar": [
           {
            "error_x": {
             "color": "#2a3f5f"
            },
            "error_y": {
             "color": "#2a3f5f"
            },
            "marker": {
             "line": {
              "color": "#E5ECF6",
              "width": 0.5
             },
             "pattern": {
              "fillmode": "overlay",
              "size": 10,
              "solidity": 0.2
             }
            },
            "type": "bar"
           }
          ],
          "barpolar": [
           {
            "marker": {
             "line": {
              "color": "#E5ECF6",
              "width": 0.5
             },
             "pattern": {
              "fillmode": "overlay",
              "size": 10,
              "solidity": 0.2
             }
            },
            "type": "barpolar"
           }
          ],
          "carpet": [
           {
            "aaxis": {
             "endlinecolor": "#2a3f5f",
             "gridcolor": "white",
             "linecolor": "white",
             "minorgridcolor": "white",
             "startlinecolor": "#2a3f5f"
            },
            "baxis": {
             "endlinecolor": "#2a3f5f",
             "gridcolor": "white",
             "linecolor": "white",
             "minorgridcolor": "white",
             "startlinecolor": "#2a3f5f"
            },
            "type": "carpet"
           }
          ],
          "choropleth": [
           {
            "colorbar": {
             "outlinewidth": 0,
             "ticks": ""
            },
            "type": "choropleth"
           }
          ],
          "contour": [
           {
            "colorbar": {
             "outlinewidth": 0,
             "ticks": ""
            },
            "colorscale": [
             [
              0,
              "#0d0887"
             ],
             [
              0.1111111111111111,
              "#46039f"
             ],
             [
              0.2222222222222222,
              "#7201a8"
             ],
             [
              0.3333333333333333,
              "#9c179e"
             ],
             [
              0.4444444444444444,
              "#bd3786"
             ],
             [
              0.5555555555555556,
              "#d8576b"
             ],
             [
              0.6666666666666666,
              "#ed7953"
             ],
             [
              0.7777777777777778,
              "#fb9f3a"
             ],
             [
              0.8888888888888888,
              "#fdca26"
             ],
             [
              1,
              "#f0f921"
             ]
            ],
            "type": "contour"
           }
          ],
          "contourcarpet": [
           {
            "colorbar": {
             "outlinewidth": 0,
             "ticks": ""
            },
            "type": "contourcarpet"
           }
          ],
          "heatmap": [
           {
            "colorbar": {
             "outlinewidth": 0,
             "ticks": ""
            },
            "colorscale": [
             [
              0,
              "#0d0887"
             ],
             [
              0.1111111111111111,
              "#46039f"
             ],
             [
              0.2222222222222222,
              "#7201a8"
             ],
             [
              0.3333333333333333,
              "#9c179e"
             ],
             [
              0.4444444444444444,
              "#bd3786"
             ],
             [
              0.5555555555555556,
              "#d8576b"
             ],
             [
              0.6666666666666666,
              "#ed7953"
             ],
             [
              0.7777777777777778,
              "#fb9f3a"
             ],
             [
              0.8888888888888888,
              "#fdca26"
             ],
             [
              1,
              "#f0f921"
             ]
            ],
            "type": "heatmap"
           }
          ],
          "histogram": [
           {
            "marker": {
             "pattern": {
              "fillmode": "overlay",
              "size": 10,
              "solidity": 0.2
             }
            },
            "type": "histogram"
           }
          ],
          "histogram2d": [
           {
            "colorbar": {
             "outlinewidth": 0,
             "ticks": ""
            },
            "colorscale": [
             [
              0,
              "#0d0887"
             ],
             [
              0.1111111111111111,
              "#46039f"
             ],
             [
              0.2222222222222222,
              "#7201a8"
             ],
             [
              0.3333333333333333,
              "#9c179e"
             ],
             [
              0.4444444444444444,
              "#bd3786"
             ],
             [
              0.5555555555555556,
              "#d8576b"
             ],
             [
              0.6666666666666666,
              "#ed7953"
             ],
             [
              0.7777777777777778,
              "#fb9f3a"
             ],
             [
              0.8888888888888888,
              "#fdca26"
             ],
             [
              1,
              "#f0f921"
             ]
            ],
            "type": "histogram2d"
           }
          ],
          "histogram2dcontour": [
           {
            "colorbar": {
             "outlinewidth": 0,
             "ticks": ""
            },
            "colorscale": [
             [
              0,
              "#0d0887"
             ],
             [
              0.1111111111111111,
              "#46039f"
             ],
             [
              0.2222222222222222,
              "#7201a8"
             ],
             [
              0.3333333333333333,
              "#9c179e"
             ],
             [
              0.4444444444444444,
              "#bd3786"
             ],
             [
              0.5555555555555556,
              "#d8576b"
             ],
             [
              0.6666666666666666,
              "#ed7953"
             ],
             [
              0.7777777777777778,
              "#fb9f3a"
             ],
             [
              0.8888888888888888,
              "#fdca26"
             ],
             [
              1,
              "#f0f921"
             ]
            ],
            "type": "histogram2dcontour"
           }
          ],
          "mesh3d": [
           {
            "colorbar": {
             "outlinewidth": 0,
             "ticks": ""
            },
            "type": "mesh3d"
           }
          ],
          "parcoords": [
           {
            "line": {
             "colorbar": {
              "outlinewidth": 0,
              "ticks": ""
             }
            },
            "type": "parcoords"
           }
          ],
          "pie": [
           {
            "automargin": true,
            "type": "pie"
           }
          ],
          "scatter": [
           {
            "fillpattern": {
             "fillmode": "overlay",
             "size": 10,
             "solidity": 0.2
            },
            "type": "scatter"
           }
          ],
          "scatter3d": [
           {
            "line": {
             "colorbar": {
              "outlinewidth": 0,
              "ticks": ""
             }
            },
            "marker": {
             "colorbar": {
              "outlinewidth": 0,
              "ticks": ""
             }
            },
            "type": "scatter3d"
           }
          ],
          "scattercarpet": [
           {
            "marker": {
             "colorbar": {
              "outlinewidth": 0,
              "ticks": ""
             }
            },
            "type": "scattercarpet"
           }
          ],
          "scattergeo": [
           {
            "marker": {
             "colorbar": {
              "outlinewidth": 0,
              "ticks": ""
             }
            },
            "type": "scattergeo"
           }
          ],
          "scattergl": [
           {
            "marker": {
             "colorbar": {
              "outlinewidth": 0,
              "ticks": ""
             }
            },
            "type": "scattergl"
           }
          ],
          "scattermap": [
           {
            "marker": {
             "colorbar": {
              "outlinewidth": 0,
              "ticks": ""
             }
            },
            "type": "scattermap"
           }
          ],
          "scattermapbox": [
           {
            "marker": {
             "colorbar": {
              "outlinewidth": 0,
              "ticks": ""
             }
            },
            "type": "scattermapbox"
           }
          ],
          "scatterpolar": [
           {
            "marker": {
             "colorbar": {
              "outlinewidth": 0,
              "ticks": ""
             }
            },
            "type": "scatterpolar"
           }
          ],
          "scatterpolargl": [
           {
            "marker": {
             "colorbar": {
              "outlinewidth": 0,
              "ticks": ""
             }
            },
            "type": "scatterpolargl"
           }
          ],
          "scatterternary": [
           {
            "marker": {
             "colorbar": {
              "outlinewidth": 0,
              "ticks": ""
             }
            },
            "type": "scatterternary"
           }
          ],
          "surface": [
           {
            "colorbar": {
             "outlinewidth": 0,
             "ticks": ""
            },
            "colorscale": [
             [
              0,
              "#0d0887"
             ],
             [
              0.1111111111111111,
              "#46039f"
             ],
             [
              0.2222222222222222,
              "#7201a8"
             ],
             [
              0.3333333333333333,
              "#9c179e"
             ],
             [
              0.4444444444444444,
              "#bd3786"
             ],
             [
              0.5555555555555556,
              "#d8576b"
             ],
             [
              0.6666666666666666,
              "#ed7953"
             ],
             [
              0.7777777777777778,
              "#fb9f3a"
             ],
             [
              0.8888888888888888,
              "#fdca26"
             ],
             [
              1,
              "#f0f921"
             ]
            ],
            "type": "surface"
           }
          ],
          "table": [
           {
            "cells": {
             "fill": {
              "color": "#EBF0F8"
             },
             "line": {
              "color": "white"
             }
            },
            "header": {
             "fill": {
              "color": "#C8D4E3"
             },
             "line": {
              "color": "white"
             }
            },
            "type": "table"
           }
          ]
         },
         "layout": {
          "annotationdefaults": {
           "arrowcolor": "#2a3f5f",
           "arrowhead": 0,
           "arrowwidth": 1
          },
          "autotypenumbers": "strict",
          "coloraxis": {
           "colorbar": {
            "outlinewidth": 0,
            "ticks": ""
           }
          },
          "colorscale": {
           "diverging": [
            [
             0,
             "#8e0152"
            ],
            [
             0.1,
             "#c51b7d"
            ],
            [
             0.2,
             "#de77ae"
            ],
            [
             0.3,
             "#f1b6da"
            ],
            [
             0.4,
             "#fde0ef"
            ],
            [
             0.5,
             "#f7f7f7"
            ],
            [
             0.6,
             "#e6f5d0"
            ],
            [
             0.7,
             "#b8e186"
            ],
            [
             0.8,
             "#7fbc41"
            ],
            [
             0.9,
             "#4d9221"
            ],
            [
             1,
             "#276419"
            ]
           ],
           "sequential": [
            [
             0,
             "#0d0887"
            ],
            [
             0.1111111111111111,
             "#46039f"
            ],
            [
             0.2222222222222222,
             "#7201a8"
            ],
            [
             0.3333333333333333,
             "#9c179e"
            ],
            [
             0.4444444444444444,
             "#bd3786"
            ],
            [
             0.5555555555555556,
             "#d8576b"
            ],
            [
             0.6666666666666666,
             "#ed7953"
            ],
            [
             0.7777777777777778,
             "#fb9f3a"
            ],
            [
             0.8888888888888888,
             "#fdca26"
            ],
            [
             1,
             "#f0f921"
            ]
           ],
           "sequentialminus": [
            [
             0,
             "#0d0887"
            ],
            [
             0.1111111111111111,
             "#46039f"
            ],
            [
             0.2222222222222222,
             "#7201a8"
            ],
            [
             0.3333333333333333,
             "#9c179e"
            ],
            [
             0.4444444444444444,
             "#bd3786"
            ],
            [
             0.5555555555555556,
             "#d8576b"
            ],
            [
             0.6666666666666666,
             "#ed7953"
            ],
            [
             0.7777777777777778,
             "#fb9f3a"
            ],
            [
             0.8888888888888888,
             "#fdca26"
            ],
            [
             1,
             "#f0f921"
            ]
           ]
          },
          "colorway": [
           "#636efa",
           "#EF553B",
           "#00cc96",
           "#ab63fa",
           "#FFA15A",
           "#19d3f3",
           "#FF6692",
           "#B6E880",
           "#FF97FF",
           "#FECB52"
          ],
          "font": {
           "color": "#2a3f5f"
          },
          "geo": {
           "bgcolor": "white",
           "lakecolor": "white",
           "landcolor": "#E5ECF6",
           "showlakes": true,
           "showland": true,
           "subunitcolor": "white"
          },
          "hoverlabel": {
           "align": "left"
          },
          "hovermode": "closest",
          "mapbox": {
           "style": "light"
          },
          "paper_bgcolor": "white",
          "plot_bgcolor": "#E5ECF6",
          "polar": {
           "angularaxis": {
            "gridcolor": "white",
            "linecolor": "white",
            "ticks": ""
           },
           "bgcolor": "#E5ECF6",
           "radialaxis": {
            "gridcolor": "white",
            "linecolor": "white",
            "ticks": ""
           }
          },
          "scene": {
           "xaxis": {
            "backgroundcolor": "#E5ECF6",
            "gridcolor": "white",
            "gridwidth": 2,
            "linecolor": "white",
            "showbackground": true,
            "ticks": "",
            "zerolinecolor": "white"
           },
           "yaxis": {
            "backgroundcolor": "#E5ECF6",
            "gridcolor": "white",
            "gridwidth": 2,
            "linecolor": "white",
            "showbackground": true,
            "ticks": "",
            "zerolinecolor": "white"
           },
           "zaxis": {
            "backgroundcolor": "#E5ECF6",
            "gridcolor": "white",
            "gridwidth": 2,
            "linecolor": "white",
            "showbackground": true,
            "ticks": "",
            "zerolinecolor": "white"
           }
          },
          "shapedefaults": {
           "line": {
            "color": "#2a3f5f"
           }
          },
          "ternary": {
           "aaxis": {
            "gridcolor": "white",
            "linecolor": "white",
            "ticks": ""
           },
           "baxis": {
            "gridcolor": "white",
            "linecolor": "white",
            "ticks": ""
           },
           "bgcolor": "#E5ECF6",
           "caxis": {
            "gridcolor": "white",
            "linecolor": "white",
            "ticks": ""
           }
          },
          "title": {
           "x": 0.05
          },
          "xaxis": {
           "automargin": true,
           "gridcolor": "white",
           "linecolor": "white",
           "ticks": "",
           "title": {
            "standoff": 15
           },
           "zerolinecolor": "white",
           "zerolinewidth": 2
          },
          "yaxis": {
           "automargin": true,
           "gridcolor": "white",
           "linecolor": "white",
           "ticks": "",
           "title": {
            "standoff": 15
           },
           "zerolinecolor": "white",
           "zerolinewidth": 2
          }
         }
        },
        "width": 800
       }
      }
     },
     "metadata": {},
     "output_type": "display_data"
    }
   ],
   "source": [
    "paths = [[1, 2, 3, 4],\n",
    "         [12, 10, 5, 6],\n",
    "         [31, 32, 33],\n",
    "         [22, 21]]\n",
    "\n",
    "plot_graph(nodes, paths)"
   ]
  },
  {
   "cell_type": "code",
   "execution_count": 36,
   "metadata": {},
   "outputs": [
    {
     "data": {
      "application/vnd.microsoft.datawrangler.viewer.v0+json": {
       "columns": [
        {
         "name": "index",
         "rawType": "int64",
         "type": "integer"
        },
        {
         "name": "Graph Size",
         "rawType": "int64",
         "type": "integer"
        },
        {
         "name": "Execution Time (s)",
         "rawType": "float64",
         "type": "float"
        },
        {
         "name": "Iterations",
         "rawType": "int64",
         "type": "integer"
        },
        {
         "name": "Memory (bytes)",
         "rawType": "int64",
         "type": "integer"
        },
        {
         "name": "Shortest Path",
         "rawType": "object",
         "type": "string"
        },
        {
         "name": "Path Length (m)",
         "rawType": "float64",
         "type": "float"
        }
       ],
       "conversionMethod": "pd.DataFrame",
       "ref": "07db71a4-95aa-4d16-b78b-f677088ac5c5",
       "rows": [
        [
         "0",
         "2",
         "5.1e-05",
         "2",
         "384",
         "0 -> 1 -> 0",
         "1099.85"
        ],
        [
         "1",
         "3",
         "3.1e-05",
         "5",
         "432",
         "0 -> 1 -> 2 -> 0",
         "1153.74"
        ],
        [
         "2",
         "4",
         "4.6e-05",
         "16",
         "768",
         "0 -> 1 -> 2 -> 3 -> 0",
         "1218.56"
        ],
        [
         "3",
         "5",
         "0.000115",
         "53",
         "2872",
         "0 -> 1 -> 2 -> 3 -> 4 -> 0",
         "1289.25"
        ],
        [
         "4",
         "6",
         "0.000252",
         "166",
         "5600",
         "0 -> 4 -> 3 -> 2 -> 1 -> 5 -> 0",
         "1466.98"
        ],
        [
         "5",
         "7",
         "0.001348",
         "487",
         "25000",
         "0 -> 1 -> 2 -> 3 -> 4 -> 6 -> 5 -> 0",
         "1499.68"
        ],
        [
         "6",
         "8",
         "0.002751",
         "1352",
         "52248",
         "0 -> 1 -> 2 -> 3 -> 4 -> 6 -> 5 -> 7 -> 0",
         "1505.82"
        ],
        [
         "7",
         "9",
         "0.013386",
         "3593",
         "138112",
         "0 -> 7 -> 5 -> 6 -> 4 -> 3 -> 2 -> 1 -> 8 -> 0",
         "1505.9"
        ],
        [
         "8",
         "10",
         "0.041122",
         "9226",
         "320880",
         "0 -> 7 -> 5 -> 6 -> 4 -> 3 -> 2 -> 1 -> 9 -> 8 -> 0",
         "1521.58"
        ],
        [
         "9",
         "11",
         "0.107179",
         "23051",
         "739032",
         "0 -> 8 -> 9 -> 1 -> 2 -> 3 -> 4 -> 6 -> 5 -> 7 -> 10 -> 0",
         "1523.57"
        ],
        [
         "10",
         "12",
         "0.274237",
         "56332",
         "2570240",
         "0 -> 10 -> 7 -> 5 -> 6 -> 4 -> 3 -> 2 -> 1 -> 9 -> 8 -> 11 -> 0",
         "1525.83"
        ],
        [
         "11",
         "13",
         "0.69111",
         "135181",
         "5531872",
         "0 -> 11 -> 8 -> 9 -> 1 -> 2 -> 3 -> 4 -> 6 -> 5 -> 7 -> 10 -> 12 -> 0",
         "1563.98"
        ],
        [
         "12",
         "14",
         "1.661695",
         "319502",
         "11321920",
         "0 -> 12 -> 10 -> 7 -> 5 -> 6 -> 4 -> 3 -> 2 -> 1 -> 9 -> 8 -> 11 -> 13 -> 0",
         "1591.26"
        ],
        [
         "13",
         "15",
         "3.935763",
         "745487",
         "23201032",
         "0 -> 12 -> 14 -> 7 -> 5 -> 6 -> 4 -> 3 -> 2 -> 1 -> 9 -> 8 -> 10 -> 11 -> 13 -> 0",
         "1986.19"
        ],
        [
         "14",
         "16",
         "9.335387",
         "1720336",
         "48366792",
         "0 -> 12 -> 14 -> 7 -> 5 -> 6 -> 4 -> 3 -> 2 -> 1 -> 9 -> 8 -> 10 -> 11 -> 13 -> 15 -> 0",
         "2064.45"
        ],
        [
         "15",
         "17",
         "21.636638",
         "3932177",
         "100533352",
         "0 -> 12 -> 14 -> 7 -> 5 -> 6 -> 4 -> 3 -> 2 -> 1 -> 9 -> 8 -> 10 -> 11 -> 13 -> 15 -> 16 -> 0",
         "2672.48"
        ],
        [
         "16",
         "18",
         "51.308705",
         "8912914",
         "208536560",
         "0 -> 12 -> 14 -> 7 -> 5 -> 6 -> 4 -> 3 -> 2 -> 1 -> 9 -> 8 -> 10 -> 11 -> 13 -> 15 -> 17 -> 16 -> 0",
         "2679.51"
        ],
        [
         "17",
         "19",
         "116.4727",
         "20054035",
         "431883144",
         "0 -> 12 -> 18 -> 14 -> 7 -> 5 -> 6 -> 4 -> 3 -> 2 -> 1 -> 9 -> 8 -> 10 -> 11 -> 13 -> 15 -> 17 -> 16 -> 0",
         "2704.56"
        ],
        [
         "18",
         "20",
         "262.03577",
         "44826644",
         "893256488",
         "0 -> 16 -> 17 -> 15 -> 13 -> 11 -> 10 -> 8 -> 9 -> 1 -> 2 -> 3 -> 4 -> 6 -> 5 -> 7 -> 14 -> 18 -> 12 -> 19 -> 0",
         "2754.61"
        ],
        [
         "19",
         "21",
         "594.958193",
         "99614741",
         "1845363368",
         "0 -> 16 -> 17 -> 15 -> 13 -> 11 -> 10 -> 8 -> 9 -> 1 -> 2 -> 3 -> 4 -> 6 -> 5 -> 7 -> 14 -> 20 -> 18 -> 12 -> 19 -> 0",
         "2830.32"
        ],
        [
         "20",
         "22",
         "1332.430599",
         "220200982",
         "3808297520",
         "0 -> 16 -> 17 -> 15 -> 13 -> 11 -> 10 -> 8 -> 9 -> 1 -> 2 -> 3 -> 4 -> 6 -> 5 -> 7 -> 14 -> 20 -> 18 -> 12 -> 19 -> 21 -> 0",
         "2841.93"
        ]
       ],
       "shape": {
        "columns": 6,
        "rows": 21
       }
      },
      "text/html": [
       "<div>\n",
       "<style scoped>\n",
       "    .dataframe tbody tr th:only-of-type {\n",
       "        vertical-align: middle;\n",
       "    }\n",
       "\n",
       "    .dataframe tbody tr th {\n",
       "        vertical-align: top;\n",
       "    }\n",
       "\n",
       "    .dataframe thead th {\n",
       "        text-align: right;\n",
       "    }\n",
       "</style>\n",
       "<table border=\"1\" class=\"dataframe\">\n",
       "  <thead>\n",
       "    <tr style=\"text-align: right;\">\n",
       "      <th></th>\n",
       "      <th>Graph Size</th>\n",
       "      <th>Execution Time (s)</th>\n",
       "      <th>Iterations</th>\n",
       "      <th>Memory (bytes)</th>\n",
       "      <th>Shortest Path</th>\n",
       "      <th>Path Length (m)</th>\n",
       "    </tr>\n",
       "  </thead>\n",
       "  <tbody>\n",
       "    <tr>\n",
       "      <th>0</th>\n",
       "      <td>2</td>\n",
       "      <td>0.000051</td>\n",
       "      <td>2</td>\n",
       "      <td>384</td>\n",
       "      <td>0 -&gt; 1 -&gt; 0</td>\n",
       "      <td>1099.85</td>\n",
       "    </tr>\n",
       "    <tr>\n",
       "      <th>1</th>\n",
       "      <td>3</td>\n",
       "      <td>0.000031</td>\n",
       "      <td>5</td>\n",
       "      <td>432</td>\n",
       "      <td>0 -&gt; 1 -&gt; 2 -&gt; 0</td>\n",
       "      <td>1153.74</td>\n",
       "    </tr>\n",
       "    <tr>\n",
       "      <th>2</th>\n",
       "      <td>4</td>\n",
       "      <td>0.000046</td>\n",
       "      <td>16</td>\n",
       "      <td>768</td>\n",
       "      <td>0 -&gt; 1 -&gt; 2 -&gt; 3 -&gt; 0</td>\n",
       "      <td>1218.56</td>\n",
       "    </tr>\n",
       "    <tr>\n",
       "      <th>3</th>\n",
       "      <td>5</td>\n",
       "      <td>0.000115</td>\n",
       "      <td>53</td>\n",
       "      <td>2872</td>\n",
       "      <td>0 -&gt; 1 -&gt; 2 -&gt; 3 -&gt; 4 -&gt; 0</td>\n",
       "      <td>1289.25</td>\n",
       "    </tr>\n",
       "    <tr>\n",
       "      <th>4</th>\n",
       "      <td>6</td>\n",
       "      <td>0.000252</td>\n",
       "      <td>166</td>\n",
       "      <td>5600</td>\n",
       "      <td>0 -&gt; 4 -&gt; 3 -&gt; 2 -&gt; 1 -&gt; 5 -&gt; 0</td>\n",
       "      <td>1466.98</td>\n",
       "    </tr>\n",
       "    <tr>\n",
       "      <th>5</th>\n",
       "      <td>7</td>\n",
       "      <td>0.001348</td>\n",
       "      <td>487</td>\n",
       "      <td>25000</td>\n",
       "      <td>0 -&gt; 1 -&gt; 2 -&gt; 3 -&gt; 4 -&gt; 6 -&gt; 5 -&gt; 0</td>\n",
       "      <td>1499.68</td>\n",
       "    </tr>\n",
       "    <tr>\n",
       "      <th>6</th>\n",
       "      <td>8</td>\n",
       "      <td>0.002751</td>\n",
       "      <td>1352</td>\n",
       "      <td>52248</td>\n",
       "      <td>0 -&gt; 1 -&gt; 2 -&gt; 3 -&gt; 4 -&gt; 6 -&gt; 5 -&gt; 7 -&gt; 0</td>\n",
       "      <td>1505.82</td>\n",
       "    </tr>\n",
       "    <tr>\n",
       "      <th>7</th>\n",
       "      <td>9</td>\n",
       "      <td>0.013386</td>\n",
       "      <td>3593</td>\n",
       "      <td>138112</td>\n",
       "      <td>0 -&gt; 7 -&gt; 5 -&gt; 6 -&gt; 4 -&gt; 3 -&gt; 2 -&gt; 1 -&gt; 8 -&gt; 0</td>\n",
       "      <td>1505.90</td>\n",
       "    </tr>\n",
       "    <tr>\n",
       "      <th>8</th>\n",
       "      <td>10</td>\n",
       "      <td>0.041122</td>\n",
       "      <td>9226</td>\n",
       "      <td>320880</td>\n",
       "      <td>0 -&gt; 7 -&gt; 5 -&gt; 6 -&gt; 4 -&gt; 3 -&gt; 2 -&gt; 1 -&gt; 9 -&gt; 8...</td>\n",
       "      <td>1521.58</td>\n",
       "    </tr>\n",
       "    <tr>\n",
       "      <th>9</th>\n",
       "      <td>11</td>\n",
       "      <td>0.107179</td>\n",
       "      <td>23051</td>\n",
       "      <td>739032</td>\n",
       "      <td>0 -&gt; 8 -&gt; 9 -&gt; 1 -&gt; 2 -&gt; 3 -&gt; 4 -&gt; 6 -&gt; 5 -&gt; 7...</td>\n",
       "      <td>1523.57</td>\n",
       "    </tr>\n",
       "    <tr>\n",
       "      <th>10</th>\n",
       "      <td>12</td>\n",
       "      <td>0.274237</td>\n",
       "      <td>56332</td>\n",
       "      <td>2570240</td>\n",
       "      <td>0 -&gt; 10 -&gt; 7 -&gt; 5 -&gt; 6 -&gt; 4 -&gt; 3 -&gt; 2 -&gt; 1 -&gt; ...</td>\n",
       "      <td>1525.83</td>\n",
       "    </tr>\n",
       "    <tr>\n",
       "      <th>11</th>\n",
       "      <td>13</td>\n",
       "      <td>0.691110</td>\n",
       "      <td>135181</td>\n",
       "      <td>5531872</td>\n",
       "      <td>0 -&gt; 11 -&gt; 8 -&gt; 9 -&gt; 1 -&gt; 2 -&gt; 3 -&gt; 4 -&gt; 6 -&gt; ...</td>\n",
       "      <td>1563.98</td>\n",
       "    </tr>\n",
       "    <tr>\n",
       "      <th>12</th>\n",
       "      <td>14</td>\n",
       "      <td>1.661695</td>\n",
       "      <td>319502</td>\n",
       "      <td>11321920</td>\n",
       "      <td>0 -&gt; 12 -&gt; 10 -&gt; 7 -&gt; 5 -&gt; 6 -&gt; 4 -&gt; 3 -&gt; 2 -&gt;...</td>\n",
       "      <td>1591.26</td>\n",
       "    </tr>\n",
       "    <tr>\n",
       "      <th>13</th>\n",
       "      <td>15</td>\n",
       "      <td>3.935763</td>\n",
       "      <td>745487</td>\n",
       "      <td>23201032</td>\n",
       "      <td>0 -&gt; 12 -&gt; 14 -&gt; 7 -&gt; 5 -&gt; 6 -&gt; 4 -&gt; 3 -&gt; 2 -&gt;...</td>\n",
       "      <td>1986.19</td>\n",
       "    </tr>\n",
       "    <tr>\n",
       "      <th>14</th>\n",
       "      <td>16</td>\n",
       "      <td>9.335387</td>\n",
       "      <td>1720336</td>\n",
       "      <td>48366792</td>\n",
       "      <td>0 -&gt; 12 -&gt; 14 -&gt; 7 -&gt; 5 -&gt; 6 -&gt; 4 -&gt; 3 -&gt; 2 -&gt;...</td>\n",
       "      <td>2064.45</td>\n",
       "    </tr>\n",
       "    <tr>\n",
       "      <th>15</th>\n",
       "      <td>17</td>\n",
       "      <td>21.636638</td>\n",
       "      <td>3932177</td>\n",
       "      <td>100533352</td>\n",
       "      <td>0 -&gt; 12 -&gt; 14 -&gt; 7 -&gt; 5 -&gt; 6 -&gt; 4 -&gt; 3 -&gt; 2 -&gt;...</td>\n",
       "      <td>2672.48</td>\n",
       "    </tr>\n",
       "    <tr>\n",
       "      <th>16</th>\n",
       "      <td>18</td>\n",
       "      <td>51.308705</td>\n",
       "      <td>8912914</td>\n",
       "      <td>208536560</td>\n",
       "      <td>0 -&gt; 12 -&gt; 14 -&gt; 7 -&gt; 5 -&gt; 6 -&gt; 4 -&gt; 3 -&gt; 2 -&gt;...</td>\n",
       "      <td>2679.51</td>\n",
       "    </tr>\n",
       "    <tr>\n",
       "      <th>17</th>\n",
       "      <td>19</td>\n",
       "      <td>116.472700</td>\n",
       "      <td>20054035</td>\n",
       "      <td>431883144</td>\n",
       "      <td>0 -&gt; 12 -&gt; 18 -&gt; 14 -&gt; 7 -&gt; 5 -&gt; 6 -&gt; 4 -&gt; 3 -...</td>\n",
       "      <td>2704.56</td>\n",
       "    </tr>\n",
       "    <tr>\n",
       "      <th>18</th>\n",
       "      <td>20</td>\n",
       "      <td>262.035770</td>\n",
       "      <td>44826644</td>\n",
       "      <td>893256488</td>\n",
       "      <td>0 -&gt; 16 -&gt; 17 -&gt; 15 -&gt; 13 -&gt; 11 -&gt; 10 -&gt; 8 -&gt; ...</td>\n",
       "      <td>2754.61</td>\n",
       "    </tr>\n",
       "    <tr>\n",
       "      <th>19</th>\n",
       "      <td>21</td>\n",
       "      <td>594.958193</td>\n",
       "      <td>99614741</td>\n",
       "      <td>1845363368</td>\n",
       "      <td>0 -&gt; 16 -&gt; 17 -&gt; 15 -&gt; 13 -&gt; 11 -&gt; 10 -&gt; 8 -&gt; ...</td>\n",
       "      <td>2830.32</td>\n",
       "    </tr>\n",
       "    <tr>\n",
       "      <th>20</th>\n",
       "      <td>22</td>\n",
       "      <td>1332.430599</td>\n",
       "      <td>220200982</td>\n",
       "      <td>3808297520</td>\n",
       "      <td>0 -&gt; 16 -&gt; 17 -&gt; 15 -&gt; 13 -&gt; 11 -&gt; 10 -&gt; 8 -&gt; ...</td>\n",
       "      <td>2841.93</td>\n",
       "    </tr>\n",
       "  </tbody>\n",
       "</table>\n",
       "</div>"
      ],
      "text/plain": [
       "    Graph Size  Execution Time (s)  Iterations  Memory (bytes)  \\\n",
       "0            2            0.000051           2             384   \n",
       "1            3            0.000031           5             432   \n",
       "2            4            0.000046          16             768   \n",
       "3            5            0.000115          53            2872   \n",
       "4            6            0.000252         166            5600   \n",
       "5            7            0.001348         487           25000   \n",
       "6            8            0.002751        1352           52248   \n",
       "7            9            0.013386        3593          138112   \n",
       "8           10            0.041122        9226          320880   \n",
       "9           11            0.107179       23051          739032   \n",
       "10          12            0.274237       56332         2570240   \n",
       "11          13            0.691110      135181         5531872   \n",
       "12          14            1.661695      319502        11321920   \n",
       "13          15            3.935763      745487        23201032   \n",
       "14          16            9.335387     1720336        48366792   \n",
       "15          17           21.636638     3932177       100533352   \n",
       "16          18           51.308705     8912914       208536560   \n",
       "17          19          116.472700    20054035       431883144   \n",
       "18          20          262.035770    44826644       893256488   \n",
       "19          21          594.958193    99614741      1845363368   \n",
       "20          22         1332.430599   220200982      3808297520   \n",
       "\n",
       "                                        Shortest Path  Path Length (m)  \n",
       "0                                         0 -> 1 -> 0          1099.85  \n",
       "1                                    0 -> 1 -> 2 -> 0          1153.74  \n",
       "2                               0 -> 1 -> 2 -> 3 -> 0          1218.56  \n",
       "3                          0 -> 1 -> 2 -> 3 -> 4 -> 0          1289.25  \n",
       "4                     0 -> 4 -> 3 -> 2 -> 1 -> 5 -> 0          1466.98  \n",
       "5                0 -> 1 -> 2 -> 3 -> 4 -> 6 -> 5 -> 0          1499.68  \n",
       "6           0 -> 1 -> 2 -> 3 -> 4 -> 6 -> 5 -> 7 -> 0          1505.82  \n",
       "7      0 -> 7 -> 5 -> 6 -> 4 -> 3 -> 2 -> 1 -> 8 -> 0          1505.90  \n",
       "8   0 -> 7 -> 5 -> 6 -> 4 -> 3 -> 2 -> 1 -> 9 -> 8...          1521.58  \n",
       "9   0 -> 8 -> 9 -> 1 -> 2 -> 3 -> 4 -> 6 -> 5 -> 7...          1523.57  \n",
       "10  0 -> 10 -> 7 -> 5 -> 6 -> 4 -> 3 -> 2 -> 1 -> ...          1525.83  \n",
       "11  0 -> 11 -> 8 -> 9 -> 1 -> 2 -> 3 -> 4 -> 6 -> ...          1563.98  \n",
       "12  0 -> 12 -> 10 -> 7 -> 5 -> 6 -> 4 -> 3 -> 2 ->...          1591.26  \n",
       "13  0 -> 12 -> 14 -> 7 -> 5 -> 6 -> 4 -> 3 -> 2 ->...          1986.19  \n",
       "14  0 -> 12 -> 14 -> 7 -> 5 -> 6 -> 4 -> 3 -> 2 ->...          2064.45  \n",
       "15  0 -> 12 -> 14 -> 7 -> 5 -> 6 -> 4 -> 3 -> 2 ->...          2672.48  \n",
       "16  0 -> 12 -> 14 -> 7 -> 5 -> 6 -> 4 -> 3 -> 2 ->...          2679.51  \n",
       "17  0 -> 12 -> 18 -> 14 -> 7 -> 5 -> 6 -> 4 -> 3 -...          2704.56  \n",
       "18  0 -> 16 -> 17 -> 15 -> 13 -> 11 -> 10 -> 8 -> ...          2754.61  \n",
       "19  0 -> 16 -> 17 -> 15 -> 13 -> 11 -> 10 -> 8 -> ...          2830.32  \n",
       "20  0 -> 16 -> 17 -> 15 -> 13 -> 11 -> 10 -> 8 -> ...          2841.93  "
      ]
     },
     "execution_count": 36,
     "metadata": {},
     "output_type": "execute_result"
    }
   ],
   "source": [
    "df = pd.read_csv('../results_dp.csv')\n",
    "df"
   ]
  },
  {
   "cell_type": "code",
   "execution_count": 37,
   "metadata": {},
   "outputs": [],
   "source": [
    "df['Shortest Path'] = df['Shortest Path'].apply(lambda x: [int(node) for node in x.split(' -> ')])\n"
   ]
  },
  {
   "cell_type": "code",
   "execution_count": 38,
   "metadata": {},
   "outputs": [
    {
     "data": {
      "application/vnd.plotly.v1+json": {
       "config": {
        "plotlyServerURL": "https://plot.ly"
       },
       "data": [
        {
         "hovertemplate": "<b>%{hovertext}</b><br><br>atd=%{lat}<br>lng=%{lon}<br>id=%{marker.color}<extra></extra>",
         "hovertext": [
          "pyatorochka",
          "dorm2",
          "dorm3",
          "dorm4",
          "dorm5",
          "dorm6",
          "dorm7",
          "uni",
          "sport",
          "dorm1",
          "d140",
          "d142",
          "d138",
          "d124",
          "galka",
          "d116",
          "yarmarka",
          "d118",
          "d134",
          "d136",
          "d132",
          "big_boss",
          "d130",
          "d120",
          "d122",
          "d112",
          "d104",
          "d106",
          "d114",
          "bublik",
          "d108",
          "magnit",
          "d102",
          "d100",
          "artspace",
          "hotel",
          "hospital",
          "d98"
         ],
         "lat": {
          "bdata": "h9wMN+DfS0C1pQ7yeuBLQLWlDvJ64EtAHsAiv37gS0Dsa11qhOBLQMGNlC2S4EtAUtMuppngS0D+uWjIeOBLQGsqi8Iu4EtAI/jfSnbgS0A5fxMKEeBLQFuzlZf830tAcAuW6gLgS0AapyGq8N9LQGFvYkhO4EtA4ltYN97fS0AI5ujxe99LQPw2xHjN30tAPDJWm//fS0C9OseA7N9LQMvVj03y30tAh9wMN+DfS0Djpgaaz99LQCANp8zN30tAamyvBb3fS0Aea0YGud9LQLeb4Jum30tAJNHLKJbfS0BcHJWbqN9LQB123zE84EtAw6BMo8nfS0Aw1jcwud9LQMgG0sWm30tAW9HmOLffS0ANqg1ORN9LQAWHF0Sk4EtAo1aYvtfgS0CJC0CjdN9LQA==",
          "dtype": "f8"
         },
         "legendgroup": "",
         "lon": {
          "bdata": "5WGh1jRfSEAE5Euo4F5IQG743XTLXkhAH4XrUbheSEBv1XWopl5IQJnVO9wOX0hAQIS4cvZeSEDVdaimJF9IQEp/L4UHX0hAraI/NPNeSEBlcJS8Ol9IQBjqsMItX0hAqu6RzVVfSEAP7zmwHF9IQEBNLVvrX0hAs5lDUgtfSEAXnwJgPF9IQOJXrOEiX0hAuvdwyXFfSEAUJoxmZV9IQKYqbXGNX0hAXoWUn1RfSECNQ/0ubF9IQAEwnkFDX0hAMe4G0VpfSEBfYizTL19IQAINNnUeX0hA2H+dmzZfSEA01ZP5R19IQMdim1Q0YEhANKK0N/heSEA5mbhVEF9IQN1Dwvf+XkhA10y+2eZeSEBKJTyh119IQD7QCgxZX0hAAFMGDmhfSECKdhVSfl5IQA==",
          "dtype": "f8"
         },
         "marker": {
          "color": {
           "bdata": "AAECAwQFBgcICQoLDA0ODxAREhMUFRYXGBkaGxwdHh8gISIjJCU=",
           "dtype": "i1"
          },
          "coloraxis": "coloraxis"
         },
         "mode": "markers",
         "name": "",
         "showlegend": false,
         "subplot": "map",
         "type": "scattermap"
        },
        {
         "hoverinfo": "none",
         "lat": [
          55.74903,
          55.753752,
          55.74903
         ],
         "line": {
          "color": "#636EFA",
          "width": 3
         },
         "lon": [
          48.7438,
          48.741231,
          48.7438
         ],
         "marker": {
          "color": "#636EFA",
          "size": 8
         },
         "mode": "lines+markers",
         "name": "Path 1",
         "type": "scattermap"
        },
        {
         "hoverinfo": "none",
         "lat": [
          55.74903,
          55.753752,
          55.753752,
          55.74903
         ],
         "line": {
          "color": "#EF553B",
          "width": 3
         },
         "lon": [
          48.7438,
          48.741231,
          48.740584,
          48.7438
         ],
         "marker": {
          "color": "#EF553B",
          "size": 8
         },
         "mode": "lines+markers",
         "name": "Path 2",
         "type": "scattermap"
        },
        {
         "hoverinfo": "none",
         "lat": [
          55.74903,
          55.753752,
          55.753752,
          55.753868,
          55.74903
         ],
         "line": {
          "color": "#00CC96",
          "width": 3
         },
         "lon": [
          48.7438,
          48.741231,
          48.740584,
          48.74,
          48.7438
         ],
         "marker": {
          "color": "#00CC96",
          "size": 8
         },
         "mode": "lines+markers",
         "name": "Path 3",
         "type": "scattermap"
        },
        {
         "hoverinfo": "none",
         "lat": [
          55.74903,
          55.753752,
          55.753752,
          55.753868,
          55.754041,
          55.74903
         ],
         "line": {
          "color": "#AB63FA",
          "width": 3
         },
         "lon": [
          48.7438,
          48.741231,
          48.740584,
          48.74,
          48.739461,
          48.7438
         ],
         "marker": {
          "color": "#AB63FA",
          "size": 8
         },
         "mode": "lines+markers",
         "name": "Path 4",
         "type": "scattermap"
        },
        {
         "hoverinfo": "none",
         "lat": [
          55.74903,
          55.754041,
          55.753868,
          55.753752,
          55.753752,
          55.754461,
          55.74903
         ],
         "line": {
          "color": "#FFA15A",
          "width": 3
         },
         "lon": [
          48.7438,
          48.739461,
          48.74,
          48.740584,
          48.741231,
          48.742641,
          48.7438
         ],
         "marker": {
          "color": "#FFA15A",
          "size": 8
         },
         "mode": "lines+markers",
         "name": "Path 5",
         "type": "scattermap"
        },
        {
         "hoverinfo": "none",
         "lat": [
          55.74903,
          55.753752,
          55.753752,
          55.753868,
          55.754041,
          55.754689,
          55.754461,
          55.74903
         ],
         "line": {
          "color": "#19D3F3",
          "width": 3
         },
         "lon": [
          48.7438,
          48.741231,
          48.740584,
          48.74,
          48.739461,
          48.741896,
          48.742641,
          48.7438
         ],
         "marker": {
          "color": "#19D3F3",
          "size": 8
         },
         "mode": "lines+markers",
         "name": "Path 6",
         "type": "scattermap"
        },
        {
         "hoverinfo": "none",
         "lat": [
          55.74903,
          55.753752,
          55.753752,
          55.753868,
          55.754041,
          55.754689,
          55.754461,
          55.753686,
          55.74903
         ],
         "line": {
          "color": "#FF6692",
          "width": 3
         },
         "lon": [
          48.7438,
          48.741231,
          48.740584,
          48.74,
          48.739461,
          48.741896,
          48.742641,
          48.743306,
          48.7438
         ],
         "marker": {
          "color": "#FF6692",
          "size": 8
         },
         "mode": "lines+markers",
         "name": "Path 7",
         "type": "scattermap"
        },
        {
         "hoverinfo": "none",
         "lat": [
          55.74903,
          55.753686,
          55.754461,
          55.754689,
          55.754041,
          55.753868,
          55.753752,
          55.753752,
          55.751427,
          55.74903
         ],
         "line": {
          "color": "#B6E880",
          "width": 3
         },
         "lon": [
          48.7438,
          48.743306,
          48.742641,
          48.741896,
          48.739461,
          48.74,
          48.740584,
          48.741231,
          48.742417,
          48.7438
         ],
         "marker": {
          "color": "#B6E880",
          "size": 8
         },
         "mode": "lines+markers",
         "name": "Path 8",
         "type": "scattermap"
        },
        {
         "hoverinfo": "none",
         "lat": [
          55.74903,
          55.753686,
          55.754461,
          55.754689,
          55.754041,
          55.753868,
          55.753752,
          55.753752,
          55.75361,
          55.751427,
          55.74903
         ],
         "line": {
          "color": "#FF97FF",
          "width": 3
         },
         "lon": [
          48.7438,
          48.743306,
          48.742641,
          48.741896,
          48.739461,
          48.74,
          48.740584,
          48.741231,
          48.741797,
          48.742417,
          48.7438
         ],
         "marker": {
          "color": "#FF97FF",
          "size": 8
         },
         "mode": "lines+markers",
         "name": "Path 9",
         "type": "scattermap"
        },
        {
         "hoverinfo": "none",
         "lat": [
          55.74903,
          55.751427,
          55.75361,
          55.753752,
          55.753752,
          55.753868,
          55.754041,
          55.754689,
          55.754461,
          55.753686,
          55.75052,
          55.74903
         ],
         "line": {
          "color": "#FECB52",
          "width": 3
         },
         "lon": [
          48.7438,
          48.742417,
          48.741797,
          48.741231,
          48.740584,
          48.74,
          48.739461,
          48.741896,
          48.742641,
          48.743306,
          48.74398,
          48.7438
         ],
         "marker": {
          "color": "#FECB52",
          "size": 8
         },
         "mode": "lines+markers",
         "name": "Path 10",
         "type": "scattermap"
        },
        {
         "hoverinfo": "none",
         "lat": [
          55.74903,
          55.75052,
          55.753686,
          55.754461,
          55.754689,
          55.754041,
          55.753868,
          55.753752,
          55.753752,
          55.75361,
          55.751427,
          55.749896,
          55.74903
         ],
         "line": {
          "color": "#636EFA",
          "width": 3
         },
         "lon": [
          48.7438,
          48.74398,
          48.743306,
          48.742641,
          48.741896,
          48.739461,
          48.74,
          48.740584,
          48.741231,
          48.741797,
          48.742417,
          48.743584,
          48.7438
         ],
         "marker": {
          "color": "#636EFA",
          "size": 8
         },
         "mode": "lines+markers",
         "name": "Path 11",
         "type": "scattermap"
        },
        {
         "hoverinfo": "none",
         "lat": [
          55.74903,
          55.749896,
          55.751427,
          55.75361,
          55.753752,
          55.753752,
          55.753868,
          55.754041,
          55.754689,
          55.754461,
          55.753686,
          55.75052,
          55.750089,
          55.74903
         ],
         "line": {
          "color": "#EF553B",
          "width": 3
         },
         "lon": [
          48.7438,
          48.743584,
          48.742417,
          48.741797,
          48.741231,
          48.740584,
          48.74,
          48.739461,
          48.741896,
          48.742641,
          48.743306,
          48.74398,
          48.744806,
          48.7438
         ],
         "marker": {
          "color": "#EF553B",
          "size": 8
         },
         "mode": "lines+markers",
         "name": "Path 12",
         "type": "scattermap"
        },
        {
         "hoverinfo": "none",
         "lat": [
          55.74903,
          55.750089,
          55.75052,
          55.753686,
          55.754461,
          55.754689,
          55.754041,
          55.753868,
          55.753752,
          55.753752,
          55.75361,
          55.751427,
          55.749896,
          55.749532,
          55.74903
         ],
         "line": {
          "color": "#00CC96",
          "width": 3
         },
         "lon": [
          48.7438,
          48.744806,
          48.74398,
          48.743306,
          48.742641,
          48.741896,
          48.739461,
          48.74,
          48.740584,
          48.741231,
          48.741797,
          48.742417,
          48.743584,
          48.743063,
          48.7438
         ],
         "marker": {
          "color": "#00CC96",
          "size": 8
         },
         "mode": "lines+markers",
         "name": "Path 13",
         "type": "scattermap"
        },
        {
         "hoverinfo": "none",
         "lat": [
          55.74903,
          55.750089,
          55.752389,
          55.753686,
          55.754461,
          55.754689,
          55.754041,
          55.753868,
          55.753752,
          55.753752,
          55.75361,
          55.751427,
          55.75052,
          55.749896,
          55.749532,
          55.74903
         ],
         "line": {
          "color": "#AB63FA",
          "width": 3
         },
         "lon": [
          48.7438,
          48.744806,
          48.74937,
          48.743306,
          48.742641,
          48.741896,
          48.739461,
          48.74,
          48.740584,
          48.741231,
          48.741797,
          48.742417,
          48.74398,
          48.743584,
          48.743063,
          48.7438
         ],
         "marker": {
          "color": "#AB63FA",
          "size": 8
         },
         "mode": "lines+markers",
         "name": "Path 14",
         "type": "scattermap"
        },
        {
         "hoverinfo": "none",
         "lat": [
          55.74903,
          55.750089,
          55.752389,
          55.753686,
          55.754461,
          55.754689,
          55.754041,
          55.753868,
          55.753752,
          55.753752,
          55.75361,
          55.751427,
          55.75052,
          55.749896,
          55.749532,
          55.748969,
          55.74903
         ],
         "line": {
          "color": "#FFA15A",
          "width": 3
         },
         "lon": [
          48.7438,
          48.744806,
          48.74937,
          48.743306,
          48.742641,
          48.741896,
          48.739461,
          48.74,
          48.740584,
          48.741231,
          48.741797,
          48.742417,
          48.74398,
          48.743584,
          48.743063,
          48.742533,
          48.7438
         ],
         "marker": {
          "color": "#FFA15A",
          "size": 8
         },
         "mode": "lines+markers",
         "name": "Path 15",
         "type": "scattermap"
        },
        {
         "hoverinfo": "none",
         "lat": [
          55.74903,
          55.750089,
          55.752389,
          55.753686,
          55.754461,
          55.754689,
          55.754041,
          55.753868,
          55.753752,
          55.753752,
          55.75361,
          55.751427,
          55.75052,
          55.749896,
          55.749532,
          55.748969,
          55.74597,
          55.74903
         ],
         "line": {
          "color": "#19D3F3",
          "width": 3
         },
         "lon": [
          48.7438,
          48.744806,
          48.74937,
          48.743306,
          48.742641,
          48.741896,
          48.739461,
          48.74,
          48.740584,
          48.741231,
          48.741797,
          48.742417,
          48.74398,
          48.743584,
          48.743063,
          48.742533,
          48.74403,
          48.7438
         ],
         "marker": {
          "color": "#19D3F3",
          "size": 8
         },
         "mode": "lines+markers",
         "name": "Path 16",
         "type": "scattermap"
        },
        {
         "hoverinfo": "none",
         "lat": [
          55.74903,
          55.750089,
          55.752389,
          55.753686,
          55.754461,
          55.754689,
          55.754041,
          55.753868,
          55.753752,
          55.753752,
          55.75361,
          55.751427,
          55.75052,
          55.749896,
          55.749532,
          55.748969,
          55.748458,
          55.74597,
          55.74903
         ],
         "line": {
          "color": "#FF6692",
          "width": 3
         },
         "lon": [
          48.7438,
          48.744806,
          48.74937,
          48.743306,
          48.742641,
          48.741896,
          48.739461,
          48.74,
          48.740584,
          48.741231,
          48.741797,
          48.742417,
          48.74398,
          48.743584,
          48.743063,
          48.742533,
          48.743252,
          48.74403,
          48.7438
         ],
         "marker": {
          "color": "#FF6692",
          "size": 8
         },
         "mode": "lines+markers",
         "name": "Path 17",
         "type": "scattermap"
        },
        {
         "hoverinfo": "none",
         "lat": [
          55.74903,
          55.750089,
          55.749988,
          55.752389,
          55.753686,
          55.754461,
          55.754689,
          55.754041,
          55.753868,
          55.753752,
          55.753752,
          55.75361,
          55.751427,
          55.75052,
          55.749896,
          55.749532,
          55.748969,
          55.748458,
          55.74597,
          55.74903
         ],
         "line": {
          "color": "#B6E880",
          "width": 3
         },
         "lon": [
          48.7438,
          48.744806,
          48.74566,
          48.74937,
          48.743306,
          48.742641,
          48.741896,
          48.739461,
          48.74,
          48.740584,
          48.741231,
          48.741797,
          48.742417,
          48.74398,
          48.743584,
          48.743063,
          48.742533,
          48.743252,
          48.74403,
          48.7438
         ],
         "marker": {
          "color": "#B6E880",
          "size": 8
         },
         "mode": "lines+markers",
         "name": "Path 18",
         "type": "scattermap"
        },
        {
         "hoverinfo": "none",
         "lat": [
          55.74903,
          55.74597,
          55.748458,
          55.748969,
          55.749532,
          55.749896,
          55.75052,
          55.751427,
          55.75361,
          55.753752,
          55.753752,
          55.753868,
          55.754041,
          55.754689,
          55.754461,
          55.753686,
          55.752389,
          55.749988,
          55.750089,
          55.749405,
          55.74903
         ],
         "line": {
          "color": "#FF97FF",
          "width": 3
         },
         "lon": [
          48.7438,
          48.74403,
          48.743252,
          48.742533,
          48.743063,
          48.743584,
          48.74398,
          48.742417,
          48.741797,
          48.741231,
          48.740584,
          48.74,
          48.739461,
          48.741896,
          48.742641,
          48.743306,
          48.74937,
          48.74566,
          48.744806,
          48.745282,
          48.7438
         ],
         "marker": {
          "color": "#FF97FF",
          "size": 8
         },
         "mode": "lines+markers",
         "name": "Path 19",
         "type": "scattermap"
        },
        {
         "hoverinfo": "none",
         "lat": [
          55.74903,
          55.74597,
          55.748458,
          55.748969,
          55.749532,
          55.749896,
          55.75052,
          55.751427,
          55.75361,
          55.753752,
          55.753752,
          55.753868,
          55.754041,
          55.754689,
          55.754461,
          55.753686,
          55.752389,
          55.749582,
          55.749988,
          55.750089,
          55.749405,
          55.74903
         ],
         "line": {
          "color": "#FECB52",
          "width": 3
         },
         "lon": [
          48.7438,
          48.74403,
          48.743252,
          48.742533,
          48.743063,
          48.743584,
          48.74398,
          48.742417,
          48.741797,
          48.741231,
          48.740584,
          48.74,
          48.739461,
          48.741896,
          48.742641,
          48.743306,
          48.74937,
          48.746504,
          48.74566,
          48.744806,
          48.745282,
          48.7438
         ],
         "marker": {
          "color": "#FECB52",
          "size": 8
         },
         "mode": "lines+markers",
         "name": "Path 20",
         "type": "scattermap"
        },
        {
         "hoverinfo": "none",
         "lat": [
          55.74903,
          55.74597,
          55.748458,
          55.748969,
          55.749532,
          55.749896,
          55.75052,
          55.751427,
          55.75361,
          55.753752,
          55.753752,
          55.753868,
          55.754041,
          55.754689,
          55.754461,
          55.753686,
          55.752389,
          55.749582,
          55.749988,
          55.750089,
          55.749405,
          55.74903,
          55.74903
         ],
         "line": {
          "color": "#636EFA",
          "width": 3
         },
         "lon": [
          48.7438,
          48.74403,
          48.743252,
          48.742533,
          48.743063,
          48.743584,
          48.74398,
          48.742417,
          48.741797,
          48.741231,
          48.740584,
          48.74,
          48.739461,
          48.741896,
          48.742641,
          48.743306,
          48.74937,
          48.746504,
          48.74566,
          48.744806,
          48.745282,
          48.74477,
          48.7438
         ],
         "marker": {
          "color": "#636EFA",
          "size": 8
         },
         "mode": "lines+markers",
         "name": "Path 21",
         "type": "scattermap"
        }
       ],
       "layout": {
        "coloraxis": {
         "colorbar": {
          "title": {
           "text": "id"
          }
         },
         "colorscale": [
          [
           0,
           "#440154"
          ],
          [
           0.1111111111111111,
           "#482878"
          ],
          [
           0.2222222222222222,
           "#3e4989"
          ],
          [
           0.3333333333333333,
           "#31688e"
          ],
          [
           0.4444444444444444,
           "#26828e"
          ],
          [
           0.5555555555555556,
           "#1f9e89"
          ],
          [
           0.6666666666666666,
           "#35b779"
          ],
          [
           0.7777777777777778,
           "#6ece58"
          ],
          [
           0.8888888888888888,
           "#b5de2b"
          ],
          [
           1,
           "#fde725"
          ]
         ],
         "showscale": false
        },
        "height": 800,
        "legend": {
         "tracegroupgap": 0
        },
        "map": {
         "center": {
          "lat": 55.75013128947367,
          "lon": 48.74370347368421
         },
         "domain": {
          "x": [
           0,
           1
          ],
          "y": [
           0,
           1
          ]
         },
         "zoom": 14
        },
        "mapbox": {
         "center": {
          "lat": 55.75013128947367,
          "lon": 48.74370347368421
         },
         "style": "open-street-map",
         "zoom": 14
        },
        "margin": {
         "b": 0,
         "l": 0,
         "r": 0,
         "t": 0
        },
        "template": {
         "data": {
          "bar": [
           {
            "error_x": {
             "color": "#2a3f5f"
            },
            "error_y": {
             "color": "#2a3f5f"
            },
            "marker": {
             "line": {
              "color": "#E5ECF6",
              "width": 0.5
             },
             "pattern": {
              "fillmode": "overlay",
              "size": 10,
              "solidity": 0.2
             }
            },
            "type": "bar"
           }
          ],
          "barpolar": [
           {
            "marker": {
             "line": {
              "color": "#E5ECF6",
              "width": 0.5
             },
             "pattern": {
              "fillmode": "overlay",
              "size": 10,
              "solidity": 0.2
             }
            },
            "type": "barpolar"
           }
          ],
          "carpet": [
           {
            "aaxis": {
             "endlinecolor": "#2a3f5f",
             "gridcolor": "white",
             "linecolor": "white",
             "minorgridcolor": "white",
             "startlinecolor": "#2a3f5f"
            },
            "baxis": {
             "endlinecolor": "#2a3f5f",
             "gridcolor": "white",
             "linecolor": "white",
             "minorgridcolor": "white",
             "startlinecolor": "#2a3f5f"
            },
            "type": "carpet"
           }
          ],
          "choropleth": [
           {
            "colorbar": {
             "outlinewidth": 0,
             "ticks": ""
            },
            "type": "choropleth"
           }
          ],
          "contour": [
           {
            "colorbar": {
             "outlinewidth": 0,
             "ticks": ""
            },
            "colorscale": [
             [
              0,
              "#0d0887"
             ],
             [
              0.1111111111111111,
              "#46039f"
             ],
             [
              0.2222222222222222,
              "#7201a8"
             ],
             [
              0.3333333333333333,
              "#9c179e"
             ],
             [
              0.4444444444444444,
              "#bd3786"
             ],
             [
              0.5555555555555556,
              "#d8576b"
             ],
             [
              0.6666666666666666,
              "#ed7953"
             ],
             [
              0.7777777777777778,
              "#fb9f3a"
             ],
             [
              0.8888888888888888,
              "#fdca26"
             ],
             [
              1,
              "#f0f921"
             ]
            ],
            "type": "contour"
           }
          ],
          "contourcarpet": [
           {
            "colorbar": {
             "outlinewidth": 0,
             "ticks": ""
            },
            "type": "contourcarpet"
           }
          ],
          "heatmap": [
           {
            "colorbar": {
             "outlinewidth": 0,
             "ticks": ""
            },
            "colorscale": [
             [
              0,
              "#0d0887"
             ],
             [
              0.1111111111111111,
              "#46039f"
             ],
             [
              0.2222222222222222,
              "#7201a8"
             ],
             [
              0.3333333333333333,
              "#9c179e"
             ],
             [
              0.4444444444444444,
              "#bd3786"
             ],
             [
              0.5555555555555556,
              "#d8576b"
             ],
             [
              0.6666666666666666,
              "#ed7953"
             ],
             [
              0.7777777777777778,
              "#fb9f3a"
             ],
             [
              0.8888888888888888,
              "#fdca26"
             ],
             [
              1,
              "#f0f921"
             ]
            ],
            "type": "heatmap"
           }
          ],
          "histogram": [
           {
            "marker": {
             "pattern": {
              "fillmode": "overlay",
              "size": 10,
              "solidity": 0.2
             }
            },
            "type": "histogram"
           }
          ],
          "histogram2d": [
           {
            "colorbar": {
             "outlinewidth": 0,
             "ticks": ""
            },
            "colorscale": [
             [
              0,
              "#0d0887"
             ],
             [
              0.1111111111111111,
              "#46039f"
             ],
             [
              0.2222222222222222,
              "#7201a8"
             ],
             [
              0.3333333333333333,
              "#9c179e"
             ],
             [
              0.4444444444444444,
              "#bd3786"
             ],
             [
              0.5555555555555556,
              "#d8576b"
             ],
             [
              0.6666666666666666,
              "#ed7953"
             ],
             [
              0.7777777777777778,
              "#fb9f3a"
             ],
             [
              0.8888888888888888,
              "#fdca26"
             ],
             [
              1,
              "#f0f921"
             ]
            ],
            "type": "histogram2d"
           }
          ],
          "histogram2dcontour": [
           {
            "colorbar": {
             "outlinewidth": 0,
             "ticks": ""
            },
            "colorscale": [
             [
              0,
              "#0d0887"
             ],
             [
              0.1111111111111111,
              "#46039f"
             ],
             [
              0.2222222222222222,
              "#7201a8"
             ],
             [
              0.3333333333333333,
              "#9c179e"
             ],
             [
              0.4444444444444444,
              "#bd3786"
             ],
             [
              0.5555555555555556,
              "#d8576b"
             ],
             [
              0.6666666666666666,
              "#ed7953"
             ],
             [
              0.7777777777777778,
              "#fb9f3a"
             ],
             [
              0.8888888888888888,
              "#fdca26"
             ],
             [
              1,
              "#f0f921"
             ]
            ],
            "type": "histogram2dcontour"
           }
          ],
          "mesh3d": [
           {
            "colorbar": {
             "outlinewidth": 0,
             "ticks": ""
            },
            "type": "mesh3d"
           }
          ],
          "parcoords": [
           {
            "line": {
             "colorbar": {
              "outlinewidth": 0,
              "ticks": ""
             }
            },
            "type": "parcoords"
           }
          ],
          "pie": [
           {
            "automargin": true,
            "type": "pie"
           }
          ],
          "scatter": [
           {
            "fillpattern": {
             "fillmode": "overlay",
             "size": 10,
             "solidity": 0.2
            },
            "type": "scatter"
           }
          ],
          "scatter3d": [
           {
            "line": {
             "colorbar": {
              "outlinewidth": 0,
              "ticks": ""
             }
            },
            "marker": {
             "colorbar": {
              "outlinewidth": 0,
              "ticks": ""
             }
            },
            "type": "scatter3d"
           }
          ],
          "scattercarpet": [
           {
            "marker": {
             "colorbar": {
              "outlinewidth": 0,
              "ticks": ""
             }
            },
            "type": "scattercarpet"
           }
          ],
          "scattergeo": [
           {
            "marker": {
             "colorbar": {
              "outlinewidth": 0,
              "ticks": ""
             }
            },
            "type": "scattergeo"
           }
          ],
          "scattergl": [
           {
            "marker": {
             "colorbar": {
              "outlinewidth": 0,
              "ticks": ""
             }
            },
            "type": "scattergl"
           }
          ],
          "scattermap": [
           {
            "marker": {
             "colorbar": {
              "outlinewidth": 0,
              "ticks": ""
             }
            },
            "type": "scattermap"
           }
          ],
          "scattermapbox": [
           {
            "marker": {
             "colorbar": {
              "outlinewidth": 0,
              "ticks": ""
             }
            },
            "type": "scattermapbox"
           }
          ],
          "scatterpolar": [
           {
            "marker": {
             "colorbar": {
              "outlinewidth": 0,
              "ticks": ""
             }
            },
            "type": "scatterpolar"
           }
          ],
          "scatterpolargl": [
           {
            "marker": {
             "colorbar": {
              "outlinewidth": 0,
              "ticks": ""
             }
            },
            "type": "scatterpolargl"
           }
          ],
          "scatterternary": [
           {
            "marker": {
             "colorbar": {
              "outlinewidth": 0,
              "ticks": ""
             }
            },
            "type": "scatterternary"
           }
          ],
          "surface": [
           {
            "colorbar": {
             "outlinewidth": 0,
             "ticks": ""
            },
            "colorscale": [
             [
              0,
              "#0d0887"
             ],
             [
              0.1111111111111111,
              "#46039f"
             ],
             [
              0.2222222222222222,
              "#7201a8"
             ],
             [
              0.3333333333333333,
              "#9c179e"
             ],
             [
              0.4444444444444444,
              "#bd3786"
             ],
             [
              0.5555555555555556,
              "#d8576b"
             ],
             [
              0.6666666666666666,
              "#ed7953"
             ],
             [
              0.7777777777777778,
              "#fb9f3a"
             ],
             [
              0.8888888888888888,
              "#fdca26"
             ],
             [
              1,
              "#f0f921"
             ]
            ],
            "type": "surface"
           }
          ],
          "table": [
           {
            "cells": {
             "fill": {
              "color": "#EBF0F8"
             },
             "line": {
              "color": "white"
             }
            },
            "header": {
             "fill": {
              "color": "#C8D4E3"
             },
             "line": {
              "color": "white"
             }
            },
            "type": "table"
           }
          ]
         },
         "layout": {
          "annotationdefaults": {
           "arrowcolor": "#2a3f5f",
           "arrowhead": 0,
           "arrowwidth": 1
          },
          "autotypenumbers": "strict",
          "coloraxis": {
           "colorbar": {
            "outlinewidth": 0,
            "ticks": ""
           }
          },
          "colorscale": {
           "diverging": [
            [
             0,
             "#8e0152"
            ],
            [
             0.1,
             "#c51b7d"
            ],
            [
             0.2,
             "#de77ae"
            ],
            [
             0.3,
             "#f1b6da"
            ],
            [
             0.4,
             "#fde0ef"
            ],
            [
             0.5,
             "#f7f7f7"
            ],
            [
             0.6,
             "#e6f5d0"
            ],
            [
             0.7,
             "#b8e186"
            ],
            [
             0.8,
             "#7fbc41"
            ],
            [
             0.9,
             "#4d9221"
            ],
            [
             1,
             "#276419"
            ]
           ],
           "sequential": [
            [
             0,
             "#0d0887"
            ],
            [
             0.1111111111111111,
             "#46039f"
            ],
            [
             0.2222222222222222,
             "#7201a8"
            ],
            [
             0.3333333333333333,
             "#9c179e"
            ],
            [
             0.4444444444444444,
             "#bd3786"
            ],
            [
             0.5555555555555556,
             "#d8576b"
            ],
            [
             0.6666666666666666,
             "#ed7953"
            ],
            [
             0.7777777777777778,
             "#fb9f3a"
            ],
            [
             0.8888888888888888,
             "#fdca26"
            ],
            [
             1,
             "#f0f921"
            ]
           ],
           "sequentialminus": [
            [
             0,
             "#0d0887"
            ],
            [
             0.1111111111111111,
             "#46039f"
            ],
            [
             0.2222222222222222,
             "#7201a8"
            ],
            [
             0.3333333333333333,
             "#9c179e"
            ],
            [
             0.4444444444444444,
             "#bd3786"
            ],
            [
             0.5555555555555556,
             "#d8576b"
            ],
            [
             0.6666666666666666,
             "#ed7953"
            ],
            [
             0.7777777777777778,
             "#fb9f3a"
            ],
            [
             0.8888888888888888,
             "#fdca26"
            ],
            [
             1,
             "#f0f921"
            ]
           ]
          },
          "colorway": [
           "#636efa",
           "#EF553B",
           "#00cc96",
           "#ab63fa",
           "#FFA15A",
           "#19d3f3",
           "#FF6692",
           "#B6E880",
           "#FF97FF",
           "#FECB52"
          ],
          "font": {
           "color": "#2a3f5f"
          },
          "geo": {
           "bgcolor": "white",
           "lakecolor": "white",
           "landcolor": "#E5ECF6",
           "showlakes": true,
           "showland": true,
           "subunitcolor": "white"
          },
          "hoverlabel": {
           "align": "left"
          },
          "hovermode": "closest",
          "mapbox": {
           "style": "light"
          },
          "paper_bgcolor": "white",
          "plot_bgcolor": "#E5ECF6",
          "polar": {
           "angularaxis": {
            "gridcolor": "white",
            "linecolor": "white",
            "ticks": ""
           },
           "bgcolor": "#E5ECF6",
           "radialaxis": {
            "gridcolor": "white",
            "linecolor": "white",
            "ticks": ""
           }
          },
          "scene": {
           "xaxis": {
            "backgroundcolor": "#E5ECF6",
            "gridcolor": "white",
            "gridwidth": 2,
            "linecolor": "white",
            "showbackground": true,
            "ticks": "",
            "zerolinecolor": "white"
           },
           "yaxis": {
            "backgroundcolor": "#E5ECF6",
            "gridcolor": "white",
            "gridwidth": 2,
            "linecolor": "white",
            "showbackground": true,
            "ticks": "",
            "zerolinecolor": "white"
           },
           "zaxis": {
            "backgroundcolor": "#E5ECF6",
            "gridcolor": "white",
            "gridwidth": 2,
            "linecolor": "white",
            "showbackground": true,
            "ticks": "",
            "zerolinecolor": "white"
           }
          },
          "shapedefaults": {
           "line": {
            "color": "#2a3f5f"
           }
          },
          "ternary": {
           "aaxis": {
            "gridcolor": "white",
            "linecolor": "white",
            "ticks": ""
           },
           "baxis": {
            "gridcolor": "white",
            "linecolor": "white",
            "ticks": ""
           },
           "bgcolor": "#E5ECF6",
           "caxis": {
            "gridcolor": "white",
            "linecolor": "white",
            "ticks": ""
           }
          },
          "title": {
           "x": 0.05
          },
          "xaxis": {
           "automargin": true,
           "gridcolor": "white",
           "linecolor": "white",
           "ticks": "",
           "title": {
            "standoff": 15
           },
           "zerolinecolor": "white",
           "zerolinewidth": 2
          },
          "yaxis": {
           "automargin": true,
           "gridcolor": "white",
           "linecolor": "white",
           "ticks": "",
           "title": {
            "standoff": 15
           },
           "zerolinecolor": "white",
           "zerolinewidth": 2
          }
         }
        },
        "width": 800
       }
      }
     },
     "metadata": {},
     "output_type": "display_data"
    }
   ],
   "source": [
    "# Extract all paths from df['Shortest Path']\n",
    "all_paths = df['Shortest Path'].tolist()\n",
    "\n",
    "# Plot all paths on a single map\n",
    "plot_graph(nodes, all_paths)\n"
   ]
  },
  {
   "cell_type": "code",
   "execution_count": null,
   "metadata": {},
   "outputs": [
    {
     "name": "stdout",
     "output_type": "stream",
     "text": [
      "21: 5427.203537\n",
      "22: 13888.985868\n",
      "23: 35543.890536\n",
      "24: 90961.871977\n",
      "25: 232784.369657\n",
      "26: 595728.315380\n",
      "27: 1524553.501029\n",
      "28: 3901549.275893\n",
      "29: 9984619.589894\n",
      "30: 25552061.836280\n",
      "31: 65391361.003466\n",
      "32: 167345794.687080\n",
      "33: 428261693.436322\n",
      "34: 1095982593.455076\n"
     ]
    },
    {
     "data": {
      "image/png": "[encoded data removed]",
      "text/plain": [
       "<Figure size 1000x500 with 1 Axes>"
      ]
     },
     "metadata": {},
     "output_type": "display_data"
    }
   ],
   "source": []
  }
 ],
 "metadata": {
  "kernelspec": {
   "display_name": "Python 3",
   "language": "python",
   "name": "python3"
  },
  "language_info": {
   "codemirror_mode": {
    "name": "ipython",
    "version": 3
   },
   "file_extension": ".py",
   "mimetype": "text/x-python",
   "name": "python",
   "nbconvert_exporter": "python",
   "pygments_lexer": "ipython3",
   "version": "3.13.2"
  }
 },
 "nbformat": 4,
 "nbformat_minor": 2
}
